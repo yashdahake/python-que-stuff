{
 "cells": [
  {
   "cell_type": "code",
   "execution_count": 2,
   "id": "a6e8bec8",
   "metadata": {},
   "outputs": [],
   "source": [
    "#reserved word"
   ]
  },
  {
   "cell_type": "code",
   "execution_count": 1,
   "id": "2d0ff3ff",
   "metadata": {},
   "outputs": [
    {
     "ename": "SyntaxError",
     "evalue": "invalid syntax (442549650.py, line 1)",
     "output_type": "error",
     "traceback": [
      "\u001b[1;36m  Input \u001b[1;32mIn [1]\u001b[1;36m\u001b[0m\n\u001b[1;33m    and assert break class continue def del elif else except exec finally for from global if import if import in is lambda\u001b[0m\n\u001b[1;37m    ^\u001b[0m\n\u001b[1;31mSyntaxError\u001b[0m\u001b[1;31m:\u001b[0m invalid syntax\n"
     ]
    }
   ],
   "source": [
    "and assert break class continue def del elif else except exec finally for from global if import if import in is lambda\n",
    "not or pass print raise return try while with\n"
   ]
  },
  {
   "cell_type": "code",
   "execution_count": null,
   "id": "a3ba431b",
   "metadata": {},
   "outputs": [],
   "source": []
  }
 ],
 "metadata": {
  "kernelspec": {
   "display_name": "Python 3 (ipykernel)",
   "language": "python",
   "name": "python3"
  },
  "language_info": {
   "codemirror_mode": {
    "name": "ipython",
    "version": 3
   },
   "file_extension": ".py",
   "mimetype": "text/x-python",
   "name": "python",
   "nbconvert_exporter": "python",
   "pygments_lexer": "ipython3",
   "version": "3.9.12"
  }
 },
 "nbformat": 4,
 "nbformat_minor": 5
}
