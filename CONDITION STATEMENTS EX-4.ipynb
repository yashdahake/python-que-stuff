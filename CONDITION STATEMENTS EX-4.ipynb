{
 "cells": [
  {
   "cell_type": "markdown",
   "id": "fc7da949",
   "metadata": {},
   "source": [
    "# Conditional statements types-4\n",
    "\n",
    "# If statement\n",
    "\n",
    "# Nestedn if statement\n",
    "\n",
    "# If else statement\n",
    "\n",
    "# If-elif-else statement"
   ]
  },
  {
   "cell_type": "code",
   "execution_count": null,
   "id": "f8d60b5f",
   "metadata": {},
   "outputs": [],
   "source": []
  },
  {
   "cell_type": "markdown",
   "id": "1a97efb0",
   "metadata": {},
   "source": [
    "# ###if statement"
   ]
  },
  {
   "cell_type": "markdown",
   "id": "3ccaff8b",
   "metadata": {},
   "source": [
    "# P-4.1 program to increment a number if it is positive"
   ]
  },
  {
   "cell_type": "code",
   "execution_count": 2,
   "id": "34390506",
   "metadata": {},
   "outputs": [
    {
     "name": "stdout",
     "output_type": "stream",
     "text": [
      "101\n"
     ]
    }
   ],
   "source": [
    "\n",
    "X=100\n",
    "if(X>0):\n",
    "    print(X+1)\n"
   ]
  },
  {
   "cell_type": "markdown",
   "id": "e1741237",
   "metadata": {},
   "source": [
    "# P-4.2 write a program to determine whether a person is eligible to vote. "
   ]
  },
  {
   "cell_type": "code",
   "execution_count": 6,
   "id": "5058c412",
   "metadata": {},
   "outputs": [
    {
     "name": "stdout",
     "output_type": "stream",
     "text": [
      "Enter Your age :51\n",
      "Your eligible for Vote\n"
     ]
    }
   ],
   "source": [
    "age=int(input(\"Enter Your age :\"))\n",
    "if(age>=18):\n",
    "    print(\"Your eligible for Vote\")\n",
    "    "
   ]
  },
  {
   "cell_type": "markdown",
   "id": "c345f420",
   "metadata": {},
   "source": [
    "# P-4.2.1 Write a program to determine the character entered by user"
   ]
  },
  {
   "cell_type": "code",
   "execution_count": 15,
   "id": "b0e45adb",
   "metadata": {},
   "outputs": [
    {
     "name": "stdout",
     "output_type": "stream",
     "text": [
      "Enter any key : \n",
      "white space\n"
     ]
    }
   ],
   "source": [
    "char=input(\"Enter any key :\")\n",
    "if(char.isalpha()):\n",
    "    print(\"Character containing alphabets \")\n",
    "if(char.isspace()):\n",
    "    print(\"white space\")\n",
    "if(char.isdigit()):\n",
    "    print(\"contains digits\")"
   ]
  },
  {
   "cell_type": "markdown",
   "id": "ceddffae",
   "metadata": {},
   "source": [
    "#  ###if-else statements\n"
   ]
  },
  {
   "cell_type": "markdown",
   "id": "11b7318c",
   "metadata": {},
   "source": [
    "# P-4.3 Write aprogram to determine whether a person is eligible for Vote or not.if he is not eligible display that how many  year left to be eligible "
   ]
  },
  {
   "cell_type": "code",
   "execution_count": 23,
   "id": "1e152634",
   "metadata": {},
   "outputs": [
    {
     "name": "stdout",
     "output_type": "stream",
     "text": [
      "Enter Your AGE :15\n",
      " YOU ARE NOT ELIGIBE TO VOTE\n",
      " YEAR LEFT TO BE ELIGIBLE : 3\n"
     ]
    }
   ],
   "source": [
    "A_G_E=int(input(\"Enter Your AGE :\"))\n",
    "if(A_G_E>=18):\n",
    "    print(\"YOU ARE ELIGIBE TO VOTE\")\n",
    "else:\n",
    "    print(\" YOU ARE NOT ELIGIBE TO VOTE\\n\",\"YEAR LEFT TO BE ELIGIBLE :\",(18-A_G_E))"
   ]
  },
  {
   "cell_type": "markdown",
   "id": "7983490a",
   "metadata": {},
   "source": [
    "# P-4.4 WRITE A PROGRAM TO FIND OUT LARGER AMONG TWO NUMBER"
   ]
  },
  {
   "cell_type": "code",
   "execution_count": 31,
   "id": "ed498bb6",
   "metadata": {},
   "outputs": [
    {
     "name": "stdout",
     "output_type": "stream",
     "text": [
      "ENTER FIRST CHOICE:12\n",
      "ENTER SECOND CHOICE:55\n",
      "Second choice is greater :0 55\n"
     ]
    }
   ],
   "source": [
    "INPUT_NUMEBR_1=int(input(\"ENTER FIRST CHOICE:\"))\n",
    "INPUT_NUMEBR_2=int(input(\"ENTER SECOND CHOICE:\"))\n",
    "if(INPUT_NUMEBR_1>INPUT_NUMEBR_2):\n",
    "    print(\"First choice is greater :\",INPUT_NUMEBR_1)\n",
    "else:\n",
    "    print(\"Second choice is greater :0\",INPUT_NUMEBR_2)"
   ]
  },
  {
   "cell_type": "markdown",
   "id": "95ee08ed",
   "metadata": {},
   "source": [
    "# P-4.5 Write a program to find out given number is odd or even"
   ]
  },
  {
   "cell_type": "code",
   "execution_count": 34,
   "id": "b21b4a5c",
   "metadata": {},
   "outputs": [
    {
     "name": "stdout",
     "output_type": "stream",
     "text": [
      "Enter NUMBER :2\n",
      "EVEN\n"
     ]
    }
   ],
   "source": [
    "NUMINT=int(input(\"Enter NUMBER :\"))\n",
    "if(NUMINT%2==0):\n",
    "    print(\"EVEN\")\n",
    "else:\n",
    "    print(\"ODD\")"
   ]
  },
  {
   "cell_type": "markdown",
   "id": "d3deb2cb",
   "metadata": {},
   "source": [
    "# P-4.6 Write a program to enter any character. If the entered character is in lowwercase then convert it into uppercase and vice versa"
   ]
  },
  {
   "cell_type": "code",
   "execution_count": 37,
   "id": "04fd6f28",
   "metadata": {},
   "outputs": [
    {
     "name": "stdout",
     "output_type": "stream",
     "text": [
      "Enter character :yash\n",
      "The entered character was in lower. In uppercase it is: YASH\n"
     ]
    }
   ],
   "source": [
    "ch=input(\"Enter character :\")\n",
    "if(ch>='A'and ch<='Z'):\n",
    "    ch=ch.lower()\n",
    "    print(\"The entered character was in capital.In lower case it is:\",ch)\n",
    "else:\n",
    "    CH=ch.upper()\n",
    "    print(\"The entered character was in lower. In uppercase it is:\",CH)"
   ]
  },
  {
   "cell_type": "markdown",
   "id": "a378228f",
   "metadata": {},
   "source": [
    "# P-4.7 A Company decided to give bonus to all its employees on diwali. A 5% bonus on salary is given to the male worker and 10% to the female workers\n",
    "write a program to enter the salary of the employee and sex of the employee .if the salary  of employee is less than rs 10,000 than the employee gets exrta 2% bonus on salary Calculate the bonus that has to be given to the employee and display the salary that the employee will get."
   ]
  },
  {
   "cell_type": "code",
   "execution_count": 14,
   "id": "a916d5d6",
   "metadata": {},
   "outputs": [
    {
     "name": "stdout",
     "output_type": "stream",
     "text": [
      "Enter the number :250000\n",
      "Enter GENDER(MALE\\FEMALE):female\n",
      "bonus: 25000.0\n"
     ]
    }
   ],
   "source": [
    "enter_num=int(input(\"Enter the number :\"))\n",
    "Gender=str(input(\"Enter GENDER(MALE\\FEMALE):\"))\n",
    "if(enter_num>10000 and (Gender=='MALE' or Gender=='male')):\n",
    "    bonus=enter_num*0.5\n",
    "    print('bonus:',bonus)\n",
    "elif(enter_num>10000 and Gender=='FEMALE' or Gender=='female'):\n",
    "    bonus=enter_num*0.10\n",
    "    print('bonus:',bonus)\n",
    "    \n",
    "    "
   ]
  },
  {
   "cell_type": "markdown",
   "id": "bb3256d5",
   "metadata": {},
   "source": [
    "# ###nested-if statement"
   ]
  },
  {
   "cell_type": "code",
   "execution_count": null,
   "id": "c793e2b7",
   "metadata": {},
   "outputs": [],
   "source": []
  },
  {
   "cell_type": "markdown",
   "id": "e9155503",
   "metadata": {},
   "source": [
    "# Write a program to print the range of number in particular interval"
   ]
  },
  {
   "cell_type": "code",
   "execution_count": null,
   "id": "9361a170",
   "metadata": {},
   "outputs": [],
   "source": []
  },
  {
   "cell_type": "code",
   "execution_count": null,
   "id": "09239c46",
   "metadata": {},
   "outputs": [],
   "source": []
  },
  {
   "cell_type": "markdown",
   "id": "a68a8818",
   "metadata": {},
   "source": [
    "# ***##if-elif-else statement***"
   ]
  },
  {
   "cell_type": "markdown",
   "id": "661980de",
   "metadata": {},
   "source": [
    "# P-4.8 Write a program to test whether a number entered by the user is negative ,positive or equal to zero"
   ]
  },
  {
   "cell_type": "code",
   "execution_count": 8,
   "id": "2f6605b9",
   "metadata": {},
   "outputs": [
    {
     "name": "stdout",
     "output_type": "stream",
     "text": [
      "Enter the Number :10\n",
      " Number is Positive\n"
     ]
    }
   ],
   "source": [
    "ENTER_num=int(input(\"Enter the Number :\"))\n",
    "if(ENTER_num>0):\n",
    "    print(\" Number is Positive\")\n",
    "elif(ENTER_num<0):\n",
    "    print(\" number is Negative\")\n",
    "elif(ENTER_num==0):\n",
    "    print(\"Number is ZERO \")\n",
    "else:\n",
    "    print(\"Invalid Input\")"
   ]
  },
  {
   "cell_type": "markdown",
   "id": "0ffc3038",
   "metadata": {},
   "source": [
    "# P-4.9 Write a program to determine whether the character entered is vowel or not"
   ]
  },
  {
   "cell_type": "code",
   "execution_count": 11,
   "id": "1abc330f",
   "metadata": {},
   "outputs": [
    {
     "name": "stdout",
     "output_type": "stream",
     "text": [
      "Enter a character(Alphabets) :h\n",
      "It is not vowel\n"
     ]
    }
   ],
   "source": [
    "String=input(\"Enter a character(Alphabets) :\")\n",
    "if(String==\"A\" or String==\"E\" or String==\"I\" or String==\"O\" or String==\"U\" or String==\"a\" or String==\"e\" or String==\"i\" or String==\"o\" or String==\"u\"):\n",
    "    print(String,\"It is Vowel \")\n",
    "else:\n",
    "    print(\"It is not vowel\")"
   ]
  },
  {
   "cell_type": "markdown",
   "id": "148bcc54",
   "metadata": {},
   "source": [
    "# P-4.10 write a program to find the greatest among three numbers"
   ]
  },
  {
   "cell_type": "code",
   "execution_count": 12,
   "id": "6f7e09f5",
   "metadata": {},
   "outputs": [
    {
     "name": "stdout",
     "output_type": "stream",
     "text": [
      "Enter first number :12\n",
      "Enter second number :25\n",
      "Enter third number :55\n",
      "55 is greatest among three number\n"
     ]
    }
   ],
   "source": [
    "first_num=int(input(\"Enter first number :\"))\n",
    "second_num=int(input(\"Enter second number :\"))\n",
    "third_num=int(input(\"Enter third number :\"))\n",
    "maxx=max(first_num,third_num,second_num)\n",
    "print(maxx,\"is greatest among three number\")"
   ]
  },
  {
   "cell_type": "code",
   "execution_count": 15,
   "id": "254a6d8c",
   "metadata": {},
   "outputs": [
    {
     "name": "stdout",
     "output_type": "stream",
     "text": [
      "Enter first num :58\n",
      "Enter second num :56\n",
      "Enter third num :20\n",
      "greater number is 58\n"
     ]
    }
   ],
   "source": [
    "First_in=int(input(\"Enter first num :\"))\n",
    "second_in=int(input(\"Enter second num :\"))\n",
    "third_in=int(input(\"Enter third num :\"))\n",
    "if(First_in>second_in and First_in>third_in):\n",
    "    print(\"greater number is\",First_in)\n",
    "elif(second_in>First_in and second_in>third_in):\n",
    "    print(\"greater number is\",second_in)\n",
    "elif(third_in>First_in and third_in>second_in):\n",
    "    print(\"greater number is\", third_in)\n",
    "else:\n",
    "    print(\"Invalid inputs\")"
   ]
  },
  {
   "cell_type": "markdown",
   "id": "764e8232",
   "metadata": {},
   "source": [
    "# P-4.11 Write a program that prompts the user to enter the number between 1-7 and then display the corresponding day of week"
   ]
  },
  {
   "cell_type": "code",
   "execution_count": 19,
   "id": "c73b723c",
   "metadata": {},
   "outputs": [
    {
     "name": "stdout",
     "output_type": "stream",
     "text": [
      "Enter the number to display day of week :1\n",
      "Monday\n"
     ]
    }
   ],
   "source": [
    "week_days=int(input(\"Enter the number to display day of week :\"))\n",
    "if(week_days==1):\n",
    "    print(\"Monday\")\n",
    "elif(week_days==2):\n",
    "    print(\"Tuesday\")\n",
    "elif(week_days==3):\n",
    "    print(\"Wedneday\")\n",
    "elif(week_days==4):\n",
    "    print(\"thrusday\")\n",
    "elif(week_days==5):\n",
    "    print(\"Friday\")\n",
    "elif(week_days==6):\n",
    "    print(\"Saturday\")\n",
    "elif(week_days==7):\n",
    "    print(\"Sunday\")\n",
    "else:\n",
    "    print(\"Invalid input\")"
   ]
  },
  {
   "cell_type": "markdown",
   "id": "70f6e5aa",
   "metadata": {},
   "source": [
    "# P-4.12 Write a program to calculate tax given the following conditions:\n",
    "    if income is less than 1,50,000 then no tax\n",
    "    if taxable income is 1,50,000-3,00,000 then charge 10% tax\n",
    "    if taxable income is 3,00,001-500,000 then charge 20% tax\n",
    "    if taxable income is above 5,00,000 then charge 30% tax\n",
    "    "
   ]
  },
  {
   "cell_type": "code",
   "execution_count": 25,
   "id": "b07b5c72",
   "metadata": {},
   "outputs": [
    {
     "name": "stdout",
     "output_type": "stream",
     "text": [
      "Enter Your income :3500000\n",
      "TAX on Your income is %30 : 1050000.0\n"
     ]
    }
   ],
   "source": [
    "Income=int(input(\"Enter Your income :\"))\n",
    "if(Income<=1500000):\n",
    "    print(\"NO TAX\")\n",
    "elif(Income>1500001 and Income<300000):\n",
    "    tax15=Income*0.10\n",
    "    print(\"TAX on Your income is %10 :\",tax15)\n",
    "elif(Income>300001 and Income<500000):\n",
    "    tax30=Income*0.20\n",
    "    print(\"TAX on Your income is %20 :\",tax30)\n",
    "elif(Income>500001):\n",
    "    tax30=Income*0.30\n",
    "    print(\"TAX on Your income is %30 :\",tax30)\n",
    "else:\n",
    "    print(\"Invaild input\")\n",
    "    "
   ]
  },
  {
   "cell_type": "markdown",
   "id": "0dd8aa07",
   "metadata": {},
   "source": [
    "# P-4.13 Write a program to take input form user and then check whether it is a number or a character. it is character deteremine it is uppercase or lower case"
   ]
  },
  {
   "cell_type": "code",
   "execution_count": null,
   "id": "9471b8c5",
   "metadata": {},
   "outputs": [],
   "source": []
  },
  {
   "cell_type": "markdown",
   "id": "a542de4d",
   "metadata": {},
   "source": [
    "# P-4.14 write a program to enter student marks in four subject.then calculate the total and agregate the display the grade obtain by the student based on score\n",
    "(avg)\n",
    "above 75--distinction AA\n",
    "\n",
    "60-75 AB first division\n",
    "\n",
    "50-60 BB second division\n",
    "\n",
    "less than 50 third division\n",
    "\n",
    "below 35 fail\n"
   ]
  },
  {
   "cell_type": "code",
   "execution_count": 28,
   "id": "6505bea5",
   "metadata": {},
   "outputs": [
    {
     "name": "stdout",
     "output_type": "stream",
     "text": [
      "Enter English marks :180\n",
      "Enter Science marks :43\n",
      "Enter Maths marks :46\n",
      "Enter Maths marks :45\n",
      "Distinction: AA\n"
     ]
    }
   ],
   "source": [
    "English=int(input(\"Enter English marks :\"))\n",
    "sci=int(input(\"Enter Science marks :\"))\n",
    "maths=int(input(\"Enter Maths marks :\"))\n",
    "sst=int(input(\"Enter Maths marks :\"))\n",
    "avg=(English+sci+maths+sst)/4\n",
    "if(avg>=75):\n",
    "    print(\"Distinction: AA\")\n",
    "elif(avg>=60 and avg<=75):\n",
    "    print(\"First division: AB\")\n",
    "elif(avg>50 and avg<=60):\n",
    "    print(\"Second division :BB\")\n",
    "elif(avg<50):\n",
    "    print(\"Third division :CC\")\n",
    "else:\n",
    "    print(\"fail\")"
   ]
  },
  {
   "cell_type": "markdown",
   "id": "cd0ecf61",
   "metadata": {},
   "source": [
    "# P-4.15 write a program to calculate the root of quadratic equation"
   ]
  },
  {
   "cell_type": "code",
   "execution_count": 20,
   "id": "141ca831",
   "metadata": {},
   "outputs": [
    {
     "name": "stdout",
     "output_type": "stream",
     "text": [
      "ENTER a:1\n",
      "ENTER b:5\n",
      "ENTER c:6\n",
      "quad : -5.0\n"
     ]
    }
   ],
   "source": [
    "a=int(input(\"ENTER a:\"))\n",
    "b=int(input(\"ENTER b:\"))\n",
    "c=int(input(\"ENTER c:\"))\n",
    "quadratic=(-b)+(((b**2)-4*a*c))**0.5//2*a\n",
    "print(\"quad :\",quadratic)"
   ]
  },
  {
   "cell_type": "code",
   "execution_count": null,
   "id": "a32e6610",
   "metadata": {},
   "outputs": [],
   "source": []
  }
 ],
 "metadata": {
  "kernelspec": {
   "display_name": "Python 3 (ipykernel)",
   "language": "python",
   "name": "python3"
  },
  "language_info": {
   "codemirror_mode": {
    "name": "ipython",
    "version": 3
   },
   "file_extension": ".py",
   "mimetype": "text/x-python",
   "name": "python",
   "nbconvert_exporter": "python",
   "pygments_lexer": "ipython3",
   "version": "3.9.12"
  }
 },
 "nbformat": 4,
 "nbformat_minor": 5
}
