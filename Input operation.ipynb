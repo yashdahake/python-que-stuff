{
 "cells": [
  {
   "cell_type": "code",
   "execution_count": 6,
   "id": "5c31c8c4",
   "metadata": {},
   "outputs": [
    {
     "name": "stdout",
     "output_type": "stream",
     "text": [
      "kgf\n"
     ]
    }
   ],
   "source": [
    "var=input()"
   ]
  },
  {
   "cell_type": "code",
   "execution_count": 7,
   "id": "238544c7",
   "metadata": {},
   "outputs": [
    {
     "name": "stdout",
     "output_type": "stream",
     "text": [
      "<class 'str'>\n"
     ]
    }
   ],
   "source": [
    "print(type(var))"
   ]
  },
  {
   "cell_type": "code",
   "execution_count": 8,
   "id": "3eb03f3c",
   "metadata": {},
   "outputs": [
    {
     "name": "stdout",
     "output_type": "stream",
     "text": [
      "12\n"
     ]
    }
   ],
   "source": [
    "la=input()"
   ]
  },
  {
   "cell_type": "code",
   "execution_count": 9,
   "id": "49c40164",
   "metadata": {},
   "outputs": [
    {
     "name": "stdout",
     "output_type": "stream",
     "text": [
      "<class 'str'>\n"
     ]
    }
   ],
   "source": [
    "print(type(la))"
   ]
  },
  {
   "cell_type": "code",
   "execution_count": 13,
   "id": "1dccf7af",
   "metadata": {},
   "outputs": [
    {
     "name": "stdout",
     "output_type": "stream",
     "text": [
      "What 's your name ?YASh\n",
      "Enter your age : 20\n",
      "YASh Your are 20 year old\n"
     ]
    }
   ],
   "source": [
    "name=input(\"What 's your name ?\")\n",
    "age=input(\"Enter your age : \")\n",
    "print(\"{} Your are {} year old\".format(name,age))#using format"
   ]
  },
  {
   "cell_type": "code",
   "execution_count": 18,
   "id": "3ff98e16",
   "metadata": {},
   "outputs": [
    {
     "name": "stdout",
     "output_type": "stream",
     "text": [
      "YASh You are 20 Year old \n"
     ]
    }
   ],
   "source": [
    "print(name+\" You are \" + age +\" Year old \")"
   ]
  },
  {
   "cell_type": "code",
   "execution_count": 19,
   "id": "b6f88e85",
   "metadata": {},
   "outputs": [
    {
     "name": "stdout",
     "output_type": "stream",
     "text": [
      "YASh You are 20 Year old\n"
     ]
    }
   ],
   "source": [
    "print(name,\"You are\",age,\"Year old\")"
   ]
  },
  {
   "cell_type": "code",
   "execution_count": 24,
   "id": "58a4fc3f",
   "metadata": {},
   "outputs": [
    {
     "name": "stdout",
     "output_type": "stream",
     "text": [
      "11\n",
      "22\n",
      "55\n",
      "555\n"
     ]
    }
   ],
   "source": [
    "# aking user input in particular datatype\n",
    "var1=int(input())\n",
    "var2=float(input())\n",
    "var3=str(input())\n",
    "var4=bool(input())"
   ]
  },
  {
   "cell_type": "code",
   "execution_count": 25,
   "id": "a1a8ab35",
   "metadata": {},
   "outputs": [
    {
     "name": "stdout",
     "output_type": "stream",
     "text": [
      "11\n",
      "22.0\n",
      "55\n",
      "True\n"
     ]
    }
   ],
   "source": [
    "print(var1)\n",
    "print(var2)\n",
    "print(var3)\n",
    "print(var4)\n",
    "\n"
   ]
  },
  {
   "cell_type": "code",
   "execution_count": 1,
   "id": "13fcf0e0",
   "metadata": {},
   "outputs": [
    {
     "name": "stdout",
     "output_type": "stream",
     "text": [
      "12 32 10 55\n"
     ]
    }
   ],
   "source": [
    "container=input().split()#multiple inputs using split function"
   ]
  },
  {
   "cell_type": "code",
   "execution_count": 2,
   "id": "ad20f11a",
   "metadata": {},
   "outputs": [
    {
     "data": {
      "text/plain": [
       "['12', '32', '10', '55']"
      ]
     },
     "execution_count": 2,
     "metadata": {},
     "output_type": "execute_result"
    }
   ],
   "source": [
    "container"
   ]
  },
  {
   "cell_type": "code",
   "execution_count": 43,
   "id": "6da230a1",
   "metadata": {},
   "outputs": [
    {
     "name": "stdout",
     "output_type": "stream",
     "text": [
      "10 20\n"
     ]
    }
   ],
   "source": [
    "# Reads two numbers from input and typecasts them to int using\n",
    "# map function\n",
    "x, y = map(int, input().split())\n"
   ]
  },
  {
   "cell_type": "code",
   "execution_count": 47,
   "id": "18e26405",
   "metadata": {},
   "outputs": [
    {
     "name": "stdout",
     "output_type": "stream",
     "text": [
      "10\n",
      "20\n"
     ]
    }
   ],
   "source": [
    "print( x )\n",
    "print (y)"
   ]
  },
  {
   "cell_type": "code",
   "execution_count": 21,
   "id": "d248737a",
   "metadata": {},
   "outputs": [
    {
     "name": "stdout",
     "output_type": "stream",
     "text": [
      "Enter two values: 1 2\n",
      "First Number is:  1\n",
      "Second Number is:  2\n",
      "\n",
      "Enter three values: 1 2 5\n",
      "First Number is:  1\n",
      "Second Number is:  2\n",
      "Third Number is:  5\n",
      "\n",
      "Enter two values: 2 2\n",
      "First number is 2 and second number is 2\n",
      "\n",
      "Enter multiple values: 2 2 2 2 2 2 2 2 2 2 2 2 2 2 \n",
      "Number of list is:  [2, 2, 2, 2, 2, 2, 2, 2, 2, 2, 2, 2, 2, 2]\n"
     ]
    }
   ],
   "source": [
    "# Python program showing\n",
    "# how to take multiple input\n",
    "# using List comprehension\n",
    "\n",
    "# taking two input at a time\n",
    "x, y = [int(x) for x in input(\"Enter two values: \").split()]\n",
    "print(\"First Number is: \", x)\n",
    "print(\"Second Number is: \", y)\n",
    "print()\n",
    "\n",
    "# taking three input at a time\n",
    "x, y, z = [int(x) for x in input(\"Enter three values: \").split()]\n",
    "print(\"First Number is: \", x)\n",
    "print(\"Second Number is: \", y)\n",
    "print(\"Third Number is: \", z)\n",
    "print()\n",
    "\n",
    "# taking two inputs at a time\n",
    "x, y = [int(x) for x in input(\"Enter two values: \").split()]\n",
    "print(\"First number is {} and second number is {}\".format(x, y))\n",
    "print()\n",
    "\n",
    "# taking multiple inputs at a time\n",
    "x = [int(x) for x in input(\"Enter multiple values: \").split()]\n",
    "print(\"Number of list is: \", x)\n",
    "\n"
   ]
  },
  {
   "cell_type": "code",
   "execution_count": 5,
   "id": "03725fda",
   "metadata": {},
   "outputs": [
    {
     "name": "stdout",
     "output_type": "stream",
     "text": [
      "Please Enter Elements of list1: 123\n",
      "Please Enter Elements of list2: 45\n",
      "['1', '2', '3', '4', '5']\n"
     ]
    }
   ],
   "source": [
    "# Taking list1 input from user as list\n",
    "list1 = list(input(\"Please Enter Elements of list1: \"))\n",
    "\n",
    "# Taking list2 input from user as list\n",
    "list2 = list(input(\"Please Enter Elements of list2: \"))\n",
    "\n",
    "\n",
    "# appending list2 into list1 using .append function\n",
    "for i in list2:\n",
    "\tlist1.append(i)\n",
    "\n",
    "# printing list1\n",
    "print(list1)\n"
   ]
  },
  {
   "cell_type": "code",
   "execution_count": null,
   "id": "26c52bb1",
   "metadata": {},
   "outputs": [],
   "source": []
  },
  {
   "cell_type": "code",
   "execution_count": null,
   "id": "2d63cb9b",
   "metadata": {},
   "outputs": [],
   "source": []
  },
  {
   "cell_type": "code",
   "execution_count": null,
   "id": "bff6d27f",
   "metadata": {},
   "outputs": [],
   "source": []
  },
  {
   "cell_type": "code",
   "execution_count": null,
   "id": "1e006d05",
   "metadata": {},
   "outputs": [],
   "source": []
  }
 ],
 "metadata": {
  "kernelspec": {
   "display_name": "Python 3 (ipykernel)",
   "language": "python",
   "name": "python3"
  },
  "language_info": {
   "codemirror_mode": {
    "name": "ipython",
    "version": 3
   },
   "file_extension": ".py",
   "mimetype": "text/x-python",
   "name": "python",
   "nbconvert_exporter": "python",
   "pygments_lexer": "ipython3",
   "version": "3.9.12"
  }
 },
 "nbformat": 4,
 "nbformat_minor": 5
}
