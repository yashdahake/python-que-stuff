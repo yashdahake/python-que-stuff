{
 "cells": [
  {
   "cell_type": "markdown",
   "id": "cf48e6af",
   "metadata": {},
   "source": [
    "\n",
    "# P-3.1 write aprogram to ente a number  and display its hex and ocatal equivalent and its square root."
   ]
  },
  {
   "cell_type": "code",
   "execution_count": 3,
   "id": "e38768aa",
   "metadata": {},
   "outputs": [
    {
     "name": "stdout",
     "output_type": "stream",
     "text": [
      "Enter The Number :100\n",
      "HEX of 100 is :0x64\n",
      "ocatal of 100 is :0o144\n",
      "Square-root of 100 is :10.0\n"
     ]
    }
   ],
   "source": [
    "num=int(input(\"Enter The Number :\"))\n",
    "print(\"HEX of \"+ str(num)+ \" is :\"+str(hex(num)))\n",
    "print(\"ocatal of \"+ str(num)+ \" is :\"+str(oct(num)))\n",
    "print(\"Square-root of \"+ str(num)+ \" is :\"+str((num**0.5)))"
   ]
  },
  {
   "cell_type": "markdown",
   "id": "08eca31d",
   "metadata": {},
   "source": [
    "# P-3.2 Write a program to read and print values of different datatypes"
   ]
  },
  {
   "cell_type": "code",
   "execution_count": 11,
   "id": "e59ae410",
   "metadata": {},
   "outputs": [
    {
     "name": "stdout",
     "output_type": "stream",
     "text": [
      "Enter The INPUT num:100\n",
      "Enter The INPUT char :yash\n",
      "Enter The INPUT  decimal :10.5454\n",
      "Enter The INPUT bool :155\n",
      "\n",
      " INTEGER :100\n",
      " STRING_CHARACTERS :yash\n",
      " FLOAT:10.5454\n",
      " BOOLEAN :True\n"
     ]
    }
   ],
   "source": [
    "Integer=int(input(\"Enter The INPUT num:\"))\n",
    "string=str(input(\"Enter The INPUT char :\"))\n",
    "floatt=float(input(\"Enter The INPUT  decimal :\"))\n",
    "boolean=bool(input(\"Enter The INPUT bool :\"))\n",
    "print(\"\\n INTEGER :\"+str(Integer)+\"\\n STRING_CHARACTERS :\"+str(string)+\"\\n FLOAT:\"+str(floatt)+\"\\n BOOLEAN :\"+str(boolean))"
   ]
  },
  {
   "cell_type": "markdown",
   "id": "34a3959c",
   "metadata": {},
   "source": [
    "# P-3.3 Write a program to calculate area of a triangle using herion's formula \n",
    "(Square root of√s(s - a)(s - b)(s - c))"
   ]
  },
  {
   "cell_type": "code",
   "execution_count": 16,
   "id": "f9e5b7e6",
   "metadata": {},
   "outputs": [
    {
     "name": "stdout",
     "output_type": "stream",
     "text": [
      "Enter The first side of triangle :12\n",
      "Enter The second side of triangle :18\n",
      "Enter The third side of triangle :10\n",
      "Area of triangle : 56.568542494923804\n"
     ]
    }
   ],
   "source": [
    "a=float(input(\"Enter The first side of triangle :\"))\n",
    "b=float(input(\"Enter The second side of triangle :\"))\n",
    "c=float(input(\"Enter The third side of triangle :\"))\n",
    "S=(a+b+c)/2\n",
    "formula= (S*(S-a)*(S-b)*(S-c))**0.5\n",
    "print(\"Area of triangle :\",(formula))"
   ]
  },
  {
   "cell_type": "markdown",
   "id": "2ccca5a1",
   "metadata": {},
   "source": [
    "## P-3.4 Write program to calculate the distinct between two points"
   ]
  },
  {
   "cell_type": "code",
   "execution_count": 21,
   "id": "53a40730",
   "metadata": {},
   "outputs": [
    {
     "name": "stdout",
     "output_type": "stream",
     "text": [
      "Enter the X1 Point:8\n",
      "Enter the Y1 Point:9\n",
      "Enter the X2 Point:10\n",
      "Enter the Y2 Point:12\n",
      "3.605551275463989\n"
     ]
    }
   ],
   "source": [
    "X1=int(input(\"Enter the X1 Point:\"))\n",
    "Y1=int(input(\"Enter the Y1 Point:\"))\n",
    "X2=int(input(\"Enter the X2 Point:\"))\n",
    "Y2=int(input(\"Enter the Y2 Point:\"))\n",
    "distance_formula= ((X2-X1)**2+(Y2-Y1)**2)**0.5\n",
    "print(distance_formula)"
   ]
  },
  {
   "cell_type": "markdown",
   "id": "07432f07",
   "metadata": {},
   "source": [
    "# P-3.5 write a program to perform addition substraction division,integer division, and modulo division on two  Integer numbers"
   ]
  },
  {
   "cell_type": "code",
   "execution_count": 46,
   "id": "f7b0c077",
   "metadata": {},
   "outputs": [
    {
     "name": "stdout",
     "output_type": "stream",
     "text": [
      "Enter The First Number :250\n",
      "Enter The second Number :25\n",
      "+ : 275\n",
      "- : 225\n",
      "X : 6250\n",
      "/ : 10.0\n",
      "//: 10\n",
      "Boolean : True\n"
     ]
    }
   ],
   "source": [
    "num1=int(input(\"Enter The First Number :\"))\n",
    "num2=int(input(\"Enter The second Number :\"))\n",
    "add=num1+num2\n",
    "substration=num1-num2\n",
    "multiply=num2*num1\n",
    "divion=num1/num2\n",
    "floor_division=num1//num2\n",
    "\n",
    "bol=num1!=num2\n",
    "print(\"+ :\",add)\n",
    "print(\"- :\",substration)\n",
    "print(\"X :\",multiply)\n",
    "print(\"/ :\",divion)\n",
    "print(\"//:\",floor_division)\n",
    "print(\"Boolean :\",bol)"
   ]
  },
  {
   "cell_type": "markdown",
   "id": "3baf546b",
   "metadata": {},
   "source": [
    "# P-3.6 write a program to perform addition substraction division,integer division, and modulo division on two  float numbers"
   ]
  },
  {
   "cell_type": "code",
   "execution_count": 27,
   "id": "1a7853c2",
   "metadata": {},
   "outputs": [
    {
     "name": "stdout",
     "output_type": "stream",
     "text": [
      "Enter The First Number :25.6565\n",
      "Enter The second Number :545.2\n",
      "+ : 570.8565000000001\n",
      "- : -519.5435\n",
      "X : 13987.923800000002\n",
      "/ : 0.04705887747615554\n",
      "//: 6\n",
      "Boolean : True\n"
     ]
    }
   ],
   "source": [
    "num_1=float(input(\"Enter The First Number :\"))\n",
    "num_2=float(input(\"Enter The second Number :\"))\n",
    "add=num_1+num_2\n",
    "substration=num_1-num_2\n",
    "multiply=num_2*num_1\n",
    "divion=num_1/num_2\n",
    "floor_division=num1//num2\n",
    "bol=num1!=num_2\n",
    "print(\"+ :\",add)\n",
    "print(\"- :\",substration)\n",
    "print(\"X :\",multiply)\n",
    "print(\"/ :\",divion)\n",
    "print(\"//:\",floor_division)\n",
    "print(\"Boolean :\",bol)"
   ]
  },
  {
   "cell_type": "markdown",
   "id": "1effa9ff",
   "metadata": {},
   "source": [
    "# P-3.7 Write a program tha demonstrate the use of relation operator"
   ]
  },
  {
   "cell_type": "code",
   "execution_count": 29,
   "id": "52919dfb",
   "metadata": {},
   "outputs": [
    {
     "name": "stdout",
     "output_type": "stream",
     "text": [
      "X is greater than Y : False\n",
      "X is greater tan equal to Y: False\n",
      "X is less than Y: True\n",
      "Y is less than equal to: True\n",
      "X is equal to : False\n"
     ]
    }
   ],
   "source": [
    "X=10\n",
    "Y=20\n",
    "print(\"X is greater than Y :\",X>Y)\n",
    "print(\"X is greater tan equal to Y:\",X>=Y)\n",
    "print(\"X is less than Y:\",X<Y)\n",
    "print(\"Y is less than equal to:\",X<=Y)\n",
    "print(\"X is equal to :\",X==Y)"
   ]
  },
  {
   "cell_type": "markdown",
   "id": "41623d9e",
   "metadata": {},
   "source": [
    "# P-3.8 Write a program to calculate the area of circle"
   ]
  },
  {
   "cell_type": "code",
   "execution_count": 32,
   "id": "bf2370fe",
   "metadata": {},
   "outputs": [
    {
     "name": "stdout",
     "output_type": "stream",
     "text": [
      "Enter the radius of circle :7\n",
      "Area of circle : 153.86\n",
      "Circumference of circle : 43.96\n"
     ]
    }
   ],
   "source": [
    "pi=3.14\n",
    "radius=float(input(\"Enter the radius of circle :\"))\n",
    "area_of_circle=pi*radius**2\n",
    "circumference=2*radius*pi\n",
    "print(\"Area of circle :\", area_of_circle)\n",
    "print(\"Circumference of circle :\",circumference)"
   ]
  },
  {
   "cell_type": "markdown",
   "id": "2bc1786b",
   "metadata": {},
   "source": [
    "# P-3.10 write program to calculate the average of two number. Print the deviation\n"
   ]
  },
  {
   "cell_type": "code",
   "execution_count": 35,
   "id": "15551b6b",
   "metadata": {},
   "outputs": [
    {
     "name": "stdout",
     "output_type": "stream",
     "text": [
      "Enter the first choice integer :7\n",
      "Enter the Second choice integer :10\n",
      "Average of TWO NUMBER : 8.5\n",
      "Deviation First Number : 1.5\n",
      "Deviation Second Number : -1.5\n"
     ]
    }
   ],
   "source": [
    "FIRST_NUM=int(input(\"Enter the first choice integer :\"))\n",
    "SECOND_NUM=int(input(\"Enter the Second choice integer :\"))\n",
    "average= (FIRST_NUM+SECOND_NUM)/2\n",
    "dev1=average-FIRST_NUM\n",
    "dev2=average-SECOND_NUM\n",
    "print('Average of TWO NUMBER :',average)\n",
    "print('Deviation First Number :',dev1)\n",
    "print('Deviation Second Number :',dev2)"
   ]
  },
  {
   "cell_type": "markdown",
   "id": "7264dd0b",
   "metadata": {},
   "source": [
    "# P-3.11 Write program to Convert degrees fahrenite into degree celsius"
   ]
  },
  {
   "cell_type": "code",
   "execution_count": 40,
   "id": "4964b756",
   "metadata": {},
   "outputs": [
    {
     "name": "stdout",
     "output_type": "stream",
     "text": [
      "Enter the temperature in fahrenite :104.3\n",
      "Temperature in degree : 40.488\n"
     ]
    }
   ],
   "source": [
    "Fahrenite=float(input(\"Enter the temperature in fahrenite :\"))\n",
    "Conversion=(0.56)*(Fahrenite-32)\n",
    "print(\"Temperature in degree :\", Conversion)\n"
   ]
  },
  {
   "cell_type": "markdown",
   "id": "5f4603ac",
   "metadata": {},
   "source": [
    "# P-3.12 Write program to calculate the total amount of money in piggybank\n",
    "give the coins of Rs10, Rs5 , Rs2 and Rs1.\n"
   ]
  },
  {
   "cell_type": "code",
   "execution_count": 45,
   "id": "5d508588",
   "metadata": {},
   "outputs": [
    {
     "name": "stdout",
     "output_type": "stream",
     "text": [
      "Enter Number of  1.RS coins in PiggyBank :20\n",
      "Enter Number of  2.RS coins in PiggyBank :15\n",
      "Enter Number of  5.RS coins in PiggyBank:10\n",
      "Enter Number of 10.RS coins in PiggyBank:6\n",
      "Total amount in piggyBank is : 160\n"
     ]
    }
   ],
   "source": [
    "Number_OF_1RS_coins=int(input(\"Enter Number of  1.RS coins in PiggyBank :\"))\n",
    "Number_OF_2RS_coins=int(input(\"Enter Number of  2.RS coins in PiggyBank :\"))\n",
    "Number_OF_5RS_coins=int(input(\"Enter Number of  5.RS coins in PiggyBank:\"))\n",
    "Number_OF_10RS_coins=int(input(\"Enter Number of 10.RS coins in PiggyBank:\"))\n",
    "Total_amount=(Number_OF_1RS_coins*1+Number_OF_2RS_coins*2+Number_OF_5RS_coins*5+Number_OF_10RS_coins*10)\n",
    "print(\"Total amount in piggyBank is :\",Total_amount)"
   ]
  },
  {
   "cell_type": "markdown",
   "id": "4cc4f320",
   "metadata": {},
   "source": [
    "# P-3.13 Write program to calculate the bill amount of an item based on its given quantity ,sold value,discout,tax"
   ]
  },
  {
   "cell_type": "code",
   "execution_count": 4,
   "id": "29cb71f2",
   "metadata": {},
   "outputs": [
    {
     "name": "stdout",
     "output_type": "stream",
     "text": [
      "The Price of Item :100\n",
      "The Quantity OF ITEM :80\n",
      "################################\n",
      "PRICE OF ITEM : 100\n",
      "Qty OF ITEM : 80\n",
      "##################################\n",
      "TAX on ITEM Purchased (18%-GST) :  1120.0\n",
      "Discount on ITEM (10%): 800.0\n",
      "SOLD VALUE : 8320.0\n"
     ]
    }
   ],
   "source": [
    "ITEM_PRICE=int(input(\"The Price of Item :\"))\n",
    "ITEM_QUANTITY=int(input(\"The Quantity OF ITEM :\"))\n",
    "TAX=(ITEM_PRICE*ITEM_QUANTITY)*0.1\n",
    "discount_On_ITEM=((ITEM_PRICE*ITEM_QUANTITY)*0.10)\n",
    "Sold_value=(((ITEM_PRICE*ITEM_QUANTITY)+TAX)-discount_On_ITEM)\n",
    "print(\"############## BILL ##################\")\n",
    "print(\"PRICE OF ITEM :\",ITEM_PRICE)\n",
    "print(\"Qty OF ITEM :\",ITEM_QUANTITY)\n",
    "print(\"##################################\")\n",
    "print(\"TAX on ITEM Purchased (18%-GST) : \",TAX)\n",
    "print(\"Discount on ITEM (10%):\",discount_On_ITEM)\n",
    "print(\"SOLD VALUE :\",Sold_value)\n"
   ]
  },
  {
   "cell_type": "markdown",
   "id": "cb23cffb",
   "metadata": {},
   "source": [
    "# P-3.14 Write a program to calculate a student 's result based on to examinations, 1 sports event, and 3 activities conducted.The weightage of activities= 30 percent ,sports=20 percent and examination=50 percent"
   ]
  },
  {
   "cell_type": "code",
   "execution_count": null,
   "id": "adb76ed3",
   "metadata": {},
   "outputs": [],
   "source": []
  },
  {
   "cell_type": "markdown",
   "id": "25da95b2",
   "metadata": {},
   "source": [
    "\n",
    "# P-3.15 Write a program to convert float point number into the corresponding interger "
   ]
  },
  {
   "cell_type": "code",
   "execution_count": 49,
   "id": "e90adb20",
   "metadata": {},
   "outputs": [
    {
     "name": "stdout",
     "output_type": "stream",
     "text": [
      "Enter The digits in decimal :2235.565454\n",
      "float to Integer : 2235\n"
     ]
    }
   ],
   "source": [
    "FLoat_Number=float(input(\"Enter The digits in decimal :\"))\n",
    "print(\"float to Integer :\",int(FLoat_Number))\n"
   ]
  },
  {
   "cell_type": "markdown",
   "id": "f00f59dc",
   "metadata": {},
   "source": [
    "# # P-3.15 Write a program to convert Integer number into the corresponding float point number"
   ]
  },
  {
   "cell_type": "code",
   "execution_count": 48,
   "id": "ae08184c",
   "metadata": {},
   "outputs": [
    {
     "name": "stdout",
     "output_type": "stream",
     "text": [
      "Enter The digits in Integer :20.56\n",
      "Integer to float  : 20.56\n"
     ]
    }
   ],
   "source": [
    "Integer_Number=float(input(\"Enter The digits in Integer :\"))\n",
    "print(\"Integer to float  :\",float(Integer_Number))\n"
   ]
  },
  {
   "cell_type": "code",
   "execution_count": null,
   "id": "ec890668",
   "metadata": {},
   "outputs": [],
   "source": []
  }
 ],
 "metadata": {
  "kernelspec": {
   "display_name": "Python 3 (ipykernel)",
   "language": "python",
   "name": "python3"
  },
  "language_info": {
   "codemirror_mode": {
    "name": "ipython",
    "version": 3
   },
   "file_extension": ".py",
   "mimetype": "text/x-python",
   "name": "python",
   "nbconvert_exporter": "python",
   "pygments_lexer": "ipython3",
   "version": "3.9.12"
  }
 },
 "nbformat": 4,
 "nbformat_minor": 5
}
