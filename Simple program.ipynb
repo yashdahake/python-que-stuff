{
 "cells": [
  {
   "cell_type": "markdown",
   "id": "05d478f6",
   "metadata": {},
   "source": [
    "# Simple operations on numbers\n"
   ]
  },
  {
   "cell_type": "code",
   "execution_count": 1,
   "id": "2be96024",
   "metadata": {},
   "outputs": [
    {
     "data": {
      "text/plain": [
       "17"
      ]
     },
     "execution_count": 1,
     "metadata": {},
     "output_type": "execute_result"
    }
   ],
   "source": [
    "10+7"
   ]
  },
  {
   "cell_type": "code",
   "execution_count": 2,
   "id": "8c0e96d9",
   "metadata": {},
   "outputs": [
    {
     "data": {
      "text/plain": [
       "55"
      ]
     },
     "execution_count": 2,
     "metadata": {},
     "output_type": "execute_result"
    }
   ],
   "source": [
    "50+40-35"
   ]
  },
  {
   "cell_type": "code",
   "execution_count": 3,
   "id": "ee6da4a2",
   "metadata": {},
   "outputs": [
    {
     "data": {
      "text/plain": [
       "120"
      ]
     },
     "execution_count": 3,
     "metadata": {},
     "output_type": "execute_result"
    }
   ],
   "source": [
    "12*10"
   ]
  },
  {
   "cell_type": "code",
   "execution_count": 4,
   "id": "011f88f1",
   "metadata": {},
   "outputs": [
    {
     "data": {
      "text/plain": [
       "8.0"
      ]
     },
     "execution_count": 4,
     "metadata": {},
     "output_type": "execute_result"
    }
   ],
   "source": [
    "96/12"
   ]
  },
  {
   "cell_type": "code",
   "execution_count": 5,
   "id": "dcd5c046",
   "metadata": {},
   "outputs": [
    {
     "data": {
      "text/plain": [
       "15"
      ]
     },
     "execution_count": 5,
     "metadata": {},
     "output_type": "execute_result"
    }
   ],
   "source": [
    "78//5"
   ]
  },
  {
   "cell_type": "code",
   "execution_count": 6,
   "id": "73dff4e4",
   "metadata": {},
   "outputs": [
    {
     "data": {
      "text/plain": [
       "3"
      ]
     },
     "execution_count": 6,
     "metadata": {},
     "output_type": "execute_result"
    }
   ],
   "source": [
    "78%5"
   ]
  },
  {
   "cell_type": "code",
   "execution_count": 8,
   "id": "c2c276c8",
   "metadata": {},
   "outputs": [
    {
     "data": {
      "text/plain": [
       "'hello'"
      ]
     },
     "execution_count": 8,
     "metadata": {},
     "output_type": "execute_result"
    }
   ],
   "source": [
    "\"hello\""
   ]
  },
  {
   "cell_type": "code",
   "execution_count": 9,
   "id": "ecc43ba0",
   "metadata": {},
   "outputs": [
    {
     "data": {
      "text/plain": [
       "1213"
      ]
     },
     "execution_count": 9,
     "metadata": {},
     "output_type": "execute_result"
    }
   ],
   "source": [
    "1213\n"
   ]
  },
  {
   "cell_type": "code",
   "execution_count": 1,
   "id": "08fb31b8",
   "metadata": {},
   "outputs": [
    {
     "ename": "ZeroDivisionError",
     "evalue": "division by zero",
     "output_type": "error",
     "traceback": [
      "\u001b[1;31m---------------------------------------------------------------------------\u001b[0m",
      "\u001b[1;31mZeroDivisionError\u001b[0m                         Traceback (most recent call last)",
      "Input \u001b[1;32mIn [1]\u001b[0m, in \u001b[0;36m<cell line: 2>\u001b[1;34m()\u001b[0m\n\u001b[0;32m      1\u001b[0m \u001b[38;5;66;03m#Division by zero--generates and error\u001b[39;00m\n\u001b[1;32m----> 2\u001b[0m \u001b[38;5;241;43m15\u001b[39;49m\u001b[38;5;241;43m/\u001b[39;49m\u001b[38;5;241;43m0\u001b[39;49m\n",
      "\u001b[1;31mZeroDivisionError\u001b[0m: division by zero"
     ]
    }
   ],
   "source": [
    "#Division by zero--generates and error\n",
    "15/0\n"
   ]
  },
  {
   "cell_type": "code",
   "execution_count": 5,
   "id": "87cf9806",
   "metadata": {},
   "outputs": [
    {
     "data": {
      "text/plain": [
       "15.0"
      ]
     },
     "execution_count": 5,
     "metadata": {},
     "output_type": "execute_result"
    }
   ],
   "source": [
    "# Dividing two integer\n",
    "5*3.0\n",
    "\n"
   ]
  },
  {
   "cell_type": "code",
   "execution_count": 6,
   "id": "5eb8909d",
   "metadata": {},
   "outputs": [
    {
     "data": {
      "text/plain": [
       "22.35"
      ]
     },
     "execution_count": 6,
     "metadata": {},
     "output_type": "execute_result"
    }
   ],
   "source": [
    "19+3.35"
   ]
  },
  {
   "cell_type": "code",
   "execution_count": 8,
   "id": "3d97c040",
   "metadata": {},
   "outputs": [
    {
     "data": {
      "text/plain": [
       "15"
      ]
     },
     "execution_count": 8,
     "metadata": {},
     "output_type": "execute_result"
    }
   ],
   "source": [
    "# Quotient and reminder\n",
    "78//5  #floor division---Quotient"
   ]
  },
  {
   "cell_type": "code",
   "execution_count": null,
   "id": "f3a44db1",
   "metadata": {},
   "outputs": [],
   "source": [
    "78%5#--modulo---reminder"
   ]
  },
  {
   "cell_type": "code",
   "execution_count": 9,
   "id": "ea93f10e",
   "metadata": {},
   "outputs": [
    {
     "data": {
      "text/plain": [
       "50.0"
      ]
     },
     "execution_count": 9,
     "metadata": {},
     "output_type": "execute_result"
    }
   ],
   "source": [
    "152//3.0 #floor division---Quotient"
   ]
  },
  {
   "cell_type": "code",
   "execution_count": 10,
   "id": "6f38cadd",
   "metadata": {},
   "outputs": [
    {
     "data": {
      "text/plain": [
       "2.780000000000001"
      ]
     },
     "execution_count": 10,
     "metadata": {},
     "output_type": "execute_result"
    }
   ],
   "source": [
    "152.78%3.0#--modulo---reminder"
   ]
  },
  {
   "cell_type": "code",
   "execution_count": 11,
   "id": "a4e24d3d",
   "metadata": {},
   "outputs": [
    {
     "data": {
      "text/plain": [
       "125"
      ]
     },
     "execution_count": 11,
     "metadata": {},
     "output_type": "execute_result"
    }
   ],
   "source": [
    "#Exponentiations\n",
    "5**3"
   ]
  },
  {
   "cell_type": "code",
   "execution_count": 12,
   "id": "eeb855ee",
   "metadata": {},
   "outputs": [
    {
     "data": {
      "text/plain": [
       "11.0"
      ]
     },
     "execution_count": 12,
     "metadata": {},
     "output_type": "execute_result"
    }
   ],
   "source": [
    "121**0.5"
   ]
  },
  {
   "cell_type": "markdown",
   "id": "2f8cfdb5",
   "metadata": {},
   "source": [
    "# Strings\n"
   ]
  },
  {
   "cell_type": "code",
   "execution_count": 18,
   "id": "e55e67da",
   "metadata": {},
   "outputs": [
    {
     "data": {
      "text/plain": [
       "'HEllo world'"
      ]
     },
     "execution_count": 18,
     "metadata": {},
     "output_type": "execute_result"
    }
   ],
   "source": [
    "'HEllo world'#single Quotes"
   ]
  },
  {
   "cell_type": "code",
   "execution_count": 17,
   "id": "9be71b9c",
   "metadata": {},
   "outputs": [
    {
     "data": {
      "text/plain": [
       "'HEllow world'"
      ]
     },
     "execution_count": 17,
     "metadata": {},
     "output_type": "execute_result"
    }
   ],
   "source": [
    "\"HEllow world\"#double quotes"
   ]
  },
  {
   "cell_type": "code",
   "execution_count": 19,
   "id": "df654fc9",
   "metadata": {},
   "outputs": [
    {
     "data": {
      "text/plain": [
       "'Good morning everyone,\\n\"Welcome to the world of \\'Python\\'\"\\nHappy reading.'"
      ]
     },
     "execution_count": 19,
     "metadata": {},
     "output_type": "execute_result"
    }
   ],
   "source": [
    "'''Good morning everyone,\n",
    "\"Welcome to the world of 'Python'\" \n",
    "Happy reading.'''#Triple quotes----multi line strings "
   ]
  },
  {
   "cell_type": "code",
   "execution_count": 20,
   "id": "c0cbede1",
   "metadata": {},
   "outputs": [
    {
     "data": {
      "text/plain": [
       "'Hello'"
      ]
     },
     "execution_count": 20,
     "metadata": {},
     "output_type": "execute_result"
    }
   ],
   "source": [
    "'''Hello'''"
   ]
  },
  {
   "cell_type": "code",
   "execution_count": 21,
   "id": "842431f4",
   "metadata": {},
   "outputs": [
    {
     "name": "stdout",
     "output_type": "stream",
     "text": [
      "Beautiful Weather.............Seems it would rain\n"
     ]
    }
   ],
   "source": [
    "# strings Literal concatenation\n",
    "print('Beautiful Weather''.............''Seems it would rain')"
   ]
  },
  {
   "cell_type": "code",
   "execution_count": 24,
   "id": "118ad605",
   "metadata": {},
   "outputs": [
    {
     "ename": "SyntaxError",
     "evalue": "invalid syntax (1413303878.py, line 3)",
     "output_type": "error",
     "traceback": [
      "\u001b[1;36m  Input \u001b[1;32mIn [24]\u001b[1;36m\u001b[0m\n\u001b[1;33m    print('What's your name')\u001b[0m\n\u001b[1;37m                ^\u001b[0m\n\u001b[1;31mSyntaxError\u001b[0m\u001b[1;31m:\u001b[0m invalid syntax\n"
     ]
    }
   ],
   "source": [
    "#unicode Strings\n",
    " #error\n",
    "print('What's your name') "
   ]
  },
  {
   "cell_type": "code",
   "execution_count": 28,
   "id": "c8614a32",
   "metadata": {},
   "outputs": [
    {
     "name": "stdout",
     "output_type": "stream",
     "text": [
      "What's Your name?\n"
     ]
    }
   ],
   "source": [
    "print('What\\'s Your name?')# escape sequence "
   ]
  },
  {
   "cell_type": "code",
   "execution_count": 33,
   "id": "05718186",
   "metadata": {},
   "outputs": [
    {
     "name": "stdout",
     "output_type": "stream",
     "text": [
      "The boy replies,\"My name is Yash\"\n"
     ]
    }
   ],
   "source": [
    "print(\"The boy replies,\\\"My name is Yash\\\"\")# escape sequence"
   ]
  },
  {
   "cell_type": "code",
   "execution_count": 36,
   "id": "bcdd3227",
   "metadata": {},
   "outputs": [
    {
     "name": "stdout",
     "output_type": "stream",
     "text": [
      "Today is 15th August. \n",
      "India become Independent on this day\n"
     ]
    }
   ],
   "source": [
    "print(\"Today is 15th August. \\nIndia become Independent on this day\")#\\n---next line"
   ]
  },
  {
   "cell_type": "code",
   "execution_count": 38,
   "id": "1ed03702",
   "metadata": {},
   "outputs": [
    {
     "name": "stdout",
     "output_type": "stream",
     "text": [
      "Hello All.\t Welcome to the world of Python\n"
     ]
    }
   ],
   "source": [
    "print(\"Hello All.\\t Welcome to the world of Python\")#tab-space"
   ]
  },
  {
   "cell_type": "code",
   "execution_count": 42,
   "id": "9c0df1c0",
   "metadata": {},
   "outputs": [
    {
     "name": "stdout",
     "output_type": "stream",
     "text": [
      "I have studied many programming languages.But my best Favorite language is python\n"
     ]
    }
   ],
   "source": [
    "print(\"I have studied many programming languages.\\\n",
    "But my best Favorite language is python\")#(\\)---continues string in next line"
   ]
  },
  {
   "cell_type": "markdown",
   "id": "fe37bec8",
   "metadata": {},
   "source": [
    "#### some of escape sequence used in python"
   ]
  },
  {
   "cell_type": "code",
   "execution_count": 46,
   "id": "9c3c2a1a",
   "metadata": {},
   "outputs": [
    {
     "name": "stdout",
     "output_type": "stream",
     "text": [
      "\\\n"
     ]
    }
   ],
   "source": [
    "print(\"\\\\\")#backslash"
   ]
  },
  {
   "cell_type": "code",
   "execution_count": 47,
   "id": "0abc4e35",
   "metadata": {},
   "outputs": [
    {
     "name": "stdout",
     "output_type": "stream",
     "text": [
      "'\n"
     ]
    }
   ],
   "source": [
    "print(\"'\")#single-qoute"
   ]
  },
  {
   "cell_type": "code",
   "execution_count": 49,
   "id": "dc05ce5f",
   "metadata": {},
   "outputs": [
    {
     "name": "stdout",
     "output_type": "stream",
     "text": [
      "\"\n"
     ]
    }
   ],
   "source": [
    "print(\"\\\"\")#double-qoute"
   ]
  },
  {
   "cell_type": "code",
   "execution_count": 50,
   "id": "d1aa8ecd",
   "metadata": {},
   "outputs": [
    {
     "name": "stdout",
     "output_type": "stream",
     "text": [
      "\u0007\u0007\n"
     ]
    }
   ],
   "source": [
    "print(\"\\a\\a\")#ring bells"
   ]
  },
  {
   "cell_type": "code",
   "execution_count": 56,
   "id": "772f08f7",
   "metadata": {},
   "outputs": [
    {
     "name": "stdout",
     "output_type": "stream",
     "text": [
      "Hello\f",
      " World\n"
     ]
    }
   ],
   "source": [
    "print(\"Hello\\f World\")#form feed character"
   ]
  },
  {
   "cell_type": "code",
   "execution_count": 57,
   "id": "909e7605",
   "metadata": {},
   "outputs": [
    {
     "name": "stdout",
     "output_type": "stream",
     "text": [
      "Hello\n",
      "World\n"
     ]
    }
   ],
   "source": [
    "print(\"Hello\\nWorld\")#newline character"
   ]
  },
  {
   "cell_type": "code",
   "execution_count": 58,
   "id": "49e8cebf",
   "metadata": {},
   "outputs": [
    {
     "name": "stdout",
     "output_type": "stream",
     "text": [
      "HEllo\tworld\n"
     ]
    }
   ],
   "source": [
    "print(\"HEllo\\tworld\")#tab"
   ]
  },
  {
   "cell_type": "code",
   "execution_count": 59,
   "id": "9ba2b116",
   "metadata": {},
   "outputs": [
    {
     "name": "stdout",
     "output_type": "stream",
     "text": [
      "\\o56\n"
     ]
    }
   ],
   "source": [
    "print(\"\\o56\")"
   ]
  },
  {
   "cell_type": "code",
   "execution_count": 62,
   "id": "ce1c9f17",
   "metadata": {},
   "outputs": [
    {
     "name": "stdout",
     "output_type": "stream",
     "text": [
      "\n"
     ]
    }
   ],
   "source": [
    "print(\"\\x87\")"
   ]
  },
  {
   "cell_type": "code",
   "execution_count": 70,
   "id": "4c0bb0b5",
   "metadata": {},
   "outputs": [
    {
     "name": "stdout",
     "output_type": "stream",
     "text": [
      "What\\'s your name?\n"
     ]
    }
   ],
   "source": [
    "# raw strings\n",
    "print(R\"What\\'s your name?\")"
   ]
  },
  {
   "cell_type": "code",
   "execution_count": 69,
   "id": "abff987c",
   "metadata": {},
   "outputs": [
    {
     "name": "stdout",
     "output_type": "stream",
     "text": [
      "What's your name?\n"
     ]
    }
   ],
   "source": [
    "print(\"What's your name?\")"
   ]
  },
  {
   "cell_type": "code",
   "execution_count": null,
   "id": "8110ae5e",
   "metadata": {},
   "outputs": [],
   "source": []
  }
 ],
 "metadata": {
  "kernelspec": {
   "display_name": "Python 3 (ipykernel)",
   "language": "python",
   "name": "python3"
  },
  "language_info": {
   "codemirror_mode": {
    "name": "ipython",
    "version": 3
   },
   "file_extension": ".py",
   "mimetype": "text/x-python",
   "name": "python",
   "nbconvert_exporter": "python",
   "pygments_lexer": "ipython3",
   "version": "3.9.12"
  }
 },
 "nbformat": 4,
 "nbformat_minor": 5
}
