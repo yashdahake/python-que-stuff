{
 "cells": [
  {
   "cell_type": "markdown",
   "id": "6de0ea15",
   "metadata": {},
   "source": [
    "# Built in format() function"
   ]
  },
  {
   "cell_type": "markdown",
   "id": "9270bfb6",
   "metadata": {},
   "source": [
    "###### format(value,format_specifier)"
   ]
  },
  {
   "cell_type": "markdown",
   "id": "a5111e2a",
   "metadata": {},
   "source": [
    "#### Python string format() function has been introduced for handling complex string formatting more efficiently. Sometimes we want to make generalized print statements in that case instead of writing print statement every time we use the concept of formatting."
   ]
  },
  {
   "cell_type": "code",
   "execution_count": 12,
   "id": "fdf3341d",
   "metadata": {},
   "outputs": [
    {
     "name": "stdout",
     "output_type": "stream",
     "text": [
      "I have 4.00 Ruppes!\n"
     ]
    }
   ],
   "source": [
    "txt = \"I have {an:.2f} Ruppes!\"\n",
    "print(txt.format(an = 4))\n"
   ]
  },
  {
   "cell_type": "code",
   "execution_count": 1,
   "id": "fc31edfb",
   "metadata": {},
   "outputs": [
    {
     "name": "stdout",
     "output_type": "stream",
     "text": [
      "For only 49.00 dollars!\n"
     ]
    }
   ],
   "source": [
    "txt = \"For only {price:.2f} dollars!\"\n",
    "print(txt.format(price = 49))"
   ]
  },
  {
   "cell_type": "code",
   "execution_count": 3,
   "id": "efce715b",
   "metadata": {},
   "outputs": [],
   "source": [
    "txt1 = \"My name is {fname}, I'm {age}\".format(fname = \"John\", age = 36)\n",
    "txt2 = \"My name is {0}, I'm {1}\".format(\"John\",36)\n",
    "txt3 = \"My name is {}, I'm {}\".format(\"John\",36)\n",
    "\n"
   ]
  },
  {
   "cell_type": "code",
   "execution_count": 6,
   "id": "f8a99f01",
   "metadata": {},
   "outputs": [
    {
     "name": "stdout",
     "output_type": "stream",
     "text": [
      "My name is John, I'm 36 My name is John, I'm 36 My name is John, I'm 36\n"
     ]
    }
   ],
   "source": [
    "print(txt1,txt2,txt3)"
   ]
  },
  {
   "cell_type": "code",
   "execution_count": 8,
   "id": "71ee7b08",
   "metadata": {},
   "outputs": [
    {
     "name": "stdout",
     "output_type": "stream",
     "text": [
      "My full name is Yash dahake , I'm 20\n"
     ]
    }
   ],
   "source": [
    "my_name=\"My full name is{}, I'm {}\".format(' Yash dahake ',20)\n",
    "print(my_name)"
   ]
  },
  {
   "cell_type": "code",
   "execution_count": 11,
   "id": "e7ac7b9b",
   "metadata": {},
   "outputs": [
    {
     "data": {
      "text/plain": [
       "'5.33'"
      ]
     },
     "execution_count": 11,
     "metadata": {},
     "output_type": "execute_result"
    }
   ],
   "source": [
    "format(float(16/float(3)),'.2f')"
   ]
  },
  {
   "cell_type": "code",
   "execution_count": 13,
   "id": "076729c8",
   "metadata": {},
   "outputs": [
    {
     "name": "stdout",
     "output_type": "stream",
     "text": [
      "GeeksforGeeks, A computer science portal for geeks.\n",
      "This article is written in Python\n",
      "Hello, I am 18 years old !\n"
     ]
    }
   ],
   "source": [
    "# using format option in a simple string\n",
    "print(\"{}, A computer science portal for geeks.\"\n",
    "\t.format(\"GeeksforGeeks\"))\n",
    "\n",
    "# using format option for a\n",
    "# value stored in a variable\n",
    "str = \"This article is written in {}\"\n",
    "print(str.format(\"Python\"))\n",
    "\n",
    "# formatting a string using a numeric constant\n",
    "print(\"Hello, I am {} years old !\".format(18))\n"
   ]
  },
  {
   "cell_type": "code",
   "execution_count": 16,
   "id": "414facfc",
   "metadata": {},
   "outputs": [
    {
     "ename": "IndexError",
     "evalue": "Replacement index 3 out of range for positional args tuple",
     "output_type": "error",
     "traceback": [
      "\u001b[1;31m---------------------------------------------------------------------------\u001b[0m",
      "\u001b[1;31mIndexError\u001b[0m                                Traceback (most recent call last)",
      "Input \u001b[1;32mIn [16]\u001b[0m, in \u001b[0;36m<cell line: 4>\u001b[1;34m()\u001b[0m\n\u001b[0;32m      1\u001b[0m \u001b[38;5;66;03m# parameters in format function.\u001b[39;00m\n\u001b[0;32m      2\u001b[0m my_string \u001b[38;5;241m=\u001b[39m \u001b[38;5;124m\"\u001b[39m\u001b[38;5;132;01m{}\u001b[39;00m\u001b[38;5;124m, is a \u001b[39m\u001b[38;5;132;01m{}\u001b[39;00m\u001b[38;5;124m \u001b[39m\u001b[38;5;132;01m{}\u001b[39;00m\u001b[38;5;124m science portal for \u001b[39m\u001b[38;5;132;01m{}\u001b[39;00m\u001b[38;5;124m\"\u001b[39m\n\u001b[1;32m----> 4\u001b[0m \u001b[38;5;28mprint\u001b[39m(\u001b[43mmy_string\u001b[49m\u001b[38;5;241;43m.\u001b[39;49m\u001b[43mformat\u001b[49m\u001b[43m(\u001b[49m\u001b[38;5;124;43m\"\u001b[39;49m\u001b[38;5;124;43mGeeksforGeeks\u001b[39;49m\u001b[38;5;124;43m\"\u001b[39;49m\u001b[43m,\u001b[49m\u001b[43m \u001b[49m\u001b[38;5;124;43m\"\u001b[39;49m\u001b[38;5;124;43mcomputer\u001b[39;49m\u001b[38;5;124;43m\"\u001b[39;49m\u001b[43m,\u001b[49m\u001b[43m \u001b[49m\u001b[38;5;124;43m\"\u001b[39;49m\u001b[38;5;124;43mgeeks\u001b[39;49m\u001b[38;5;124;43m\"\u001b[39;49m\u001b[43m)\u001b[49m)\n",
      "\u001b[1;31mIndexError\u001b[0m: Replacement index 3 out of range for positional args tuple"
     ]
    }
   ],
   "source": [
    "# parameters in format function.\n",
    "my_string = \"{}, is a {} {} science portal for {}\"\n",
    "\n",
    "print(my_string.format(\"GeeksforGeeks\", \"computer\", \"geeks\"))\n",
    "# String format() IndexError"
   ]
  },
  {
   "cell_type": "code",
   "execution_count": 17,
   "id": "bcb054b4",
   "metadata": {},
   "outputs": [
    {
     "name": "stdout",
     "output_type": "stream",
     "text": [
      "GeeksforGeeks love Geeks!!\n",
      "Geeks love GeeksforGeeks!!\n",
      "Every programmer should know the use of Open Source programming and Operating Systems\n",
      "Every Operating Systems should know the use of Source Open programming and programmer\n",
      "GeeksforGeeks is a computer science portal for geeks\n"
     ]
    }
   ],
   "source": [
    "# Positional arguments\n",
    "# are placed in order\n",
    "print(\"{0} love {1}!!\".format(\"GeeksforGeeks\",\n",
    "\t\t\t\t\t\t\t\"Geeks\"))\n",
    "\n",
    "# Reverse the index numbers with the\n",
    "# parameters of the placeholders\n",
    "print(\"{1} love {0}!!\".format(\"GeeksforGeeks\",\n",
    "\t\t\t\t\t\t\t\"Geeks\"))\n",
    "\n",
    "\n",
    "print(\"Every {} should know the use of {} {} programming and {}\"\n",
    "\t.format(\"programmer\", \"Open\", \"Source\",\n",
    "\t\t\t\"Operating Systems\"))\n",
    "\n",
    "\n",
    "# Use the index numbers of the\n",
    "# values to change the order that\n",
    "# they appear in the string\n",
    "print(\"Every {3} should know the use of {2} {1} programming and {0}\"\n",
    "\t.format(\"programmer\", \"Open\", \"Source\", \"Operating Systems\"))\n",
    "\n",
    "\n",
    "# Keyword arguments are called\n",
    "# by their keyword name\n",
    "print(\"{gfg} is a {0} science portal for {1}\"\n",
    "\t.format(\"computer\", \"geeks\", gfg=\"GeeksforGeeks\"))\n"
   ]
  },
  {
   "cell_type": "code",
   "execution_count": null,
   "id": "a4d39c74",
   "metadata": {},
   "outputs": [],
   "source": []
  }
 ],
 "metadata": {
  "kernelspec": {
   "display_name": "Python 3 (ipykernel)",
   "language": "python",
   "name": "python3"
  },
  "language_info": {
   "codemirror_mode": {
    "name": "ipython",
    "version": 3
   },
   "file_extension": ".py",
   "mimetype": "text/x-python",
   "name": "python",
   "nbconvert_exporter": "python",
   "pygments_lexer": "ipython3",
   "version": "3.9.12"
  }
 },
 "nbformat": 4,
 "nbformat_minor": 5
}
