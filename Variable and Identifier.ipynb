{
 "cells": [
  {
   "cell_type": "code",
   "execution_count": 7,
   "id": "3c3c59b0",
   "metadata": {},
   "outputs": [
    {
     "data": {
      "text/plain": [
       "'OP'"
      ]
     },
     "execution_count": 7,
     "metadata": {},
     "output_type": "execute_result"
    }
   ],
   "source": [
    "_hello=\"OP\"\n",
    "_hello"
   ]
  },
  {
   "cell_type": "code",
   "execution_count": 6,
   "id": "a9ad3273",
   "metadata": {},
   "outputs": [
    {
     "data": {
      "text/plain": [
       "'Op'"
      ]
     },
     "execution_count": 6,
     "metadata": {},
     "output_type": "execute_result"
    }
   ],
   "source": [
    "___hello=\"Op\"\n",
    "___hello"
   ]
  },
  {
   "cell_type": "code",
   "execution_count": 8,
   "id": "c9e16c6f",
   "metadata": {},
   "outputs": [
    {
     "data": {
      "text/plain": [
       "1"
      ]
     },
     "execution_count": 8,
     "metadata": {},
     "output_type": "execute_result"
    }
   ],
   "source": [
    "var_n=1\n",
    "var_n"
   ]
  },
  {
   "cell_type": "code",
   "execution_count": 10,
   "id": "86e9e4ab",
   "metadata": {},
   "outputs": [
    {
     "data": {
      "text/plain": [
       "3.322"
      ]
     },
     "execution_count": 10,
     "metadata": {},
     "output_type": "execute_result"
    }
   ],
   "source": [
    "_float=3.322\n",
    "_float"
   ]
  },
  {
   "cell_type": "code",
   "execution_count": 35,
   "id": "95429f5a",
   "metadata": {},
   "outputs": [],
   "source": [
    "booll=True"
   ]
  },
  {
   "cell_type": "code",
   "execution_count": 36,
   "id": "c4230dc2",
   "metadata": {},
   "outputs": [
    {
     "name": "stdout",
     "output_type": "stream",
     "text": [
      "<class 'str'>\n",
      "<class 'float'>\n",
      "<class 'int'>\n",
      "<class 'bool'>\n"
     ]
    }
   ],
   "source": [
    "print(type(_hello))\n",
    "print(type(_float))\n",
    "print(type(var_n))\n",
    "print(type(booll))"
   ]
  },
  {
   "cell_type": "code",
   "execution_count": 13,
   "id": "fbc0c44f",
   "metadata": {},
   "outputs": [],
   "source": [
    "num=7\n",
    "amt=123.45\n",
    "Code='A'\n",
    "pi=3.1415192\n",
    "population_of_india=10000000\n",
    "msg=\"Hi\""
   ]
  },
  {
   "cell_type": "code",
   "execution_count": 17,
   "id": "e9c31434",
   "metadata": {},
   "outputs": [
    {
     "name": "stdout",
     "output_type": "stream",
     "text": [
      "NUM = 7\n",
      "\n",
      "AMT = 123.45\n",
      "\n",
      "CODE = A\n",
      "\n",
      "POPULATION OF INDIA = 10000000\n",
      "\n",
      "MESSAGE = Hi\n"
     ]
    }
   ],
   "source": [
    "#printing different data type in single type\n",
    "print(\"NUM = \"+str(num))\n",
    "print(\"\\nAMT = \"+str(amt))\n",
    "print(\"\\nCODE = \"+str(Code))\n",
    "print(\"\\nPOPULATION OF INDIA = \"+str(population_of_india))\n",
    "print(\"\\nMESSAGE = \"+str(msg))\n",
    "\n",
    "\n"
   ]
  },
  {
   "cell_type": "code",
   "execution_count": 18,
   "id": "9a00971c",
   "metadata": {},
   "outputs": [
    {
     "name": "stdout",
     "output_type": "stream",
     "text": [
      "Hello\n",
      "100\n",
      "12.34\n"
     ]
    }
   ],
   "source": [
    "#program to reassign values to a varible\n",
    "val='Hello'\n",
    "print(val)\n",
    "val=100\n",
    "print(val)\n",
    "val=12.34\n",
    "print(val)"
   ]
  },
  {
   "cell_type": "code",
   "execution_count": 20,
   "id": "a8ef83d6",
   "metadata": {},
   "outputs": [
    {
     "data": {
      "text/plain": [
       "1"
      ]
     },
     "execution_count": 20,
     "metadata": {},
     "output_type": "execute_result"
    }
   ],
   "source": [
    "var_n#python remembers the varible"
   ]
  },
  {
   "cell_type": "code",
   "execution_count": 21,
   "id": "b79108ec",
   "metadata": {},
   "outputs": [],
   "source": [
    "#multiple assignments\n",
    "sum=flag=a=b=0"
   ]
  },
  {
   "cell_type": "code",
   "execution_count": 22,
   "id": "d4091917",
   "metadata": {},
   "outputs": [
    {
     "data": {
      "text/plain": [
       "0"
      ]
     },
     "execution_count": 22,
     "metadata": {},
     "output_type": "execute_result"
    }
   ],
   "source": [
    "flag"
   ]
  },
  {
   "cell_type": "code",
   "execution_count": 23,
   "id": "1ba09e9a",
   "metadata": {},
   "outputs": [
    {
     "data": {
      "text/plain": [
       "0"
      ]
     },
     "execution_count": 23,
     "metadata": {},
     "output_type": "execute_result"
    }
   ],
   "source": [
    "a"
   ]
  },
  {
   "cell_type": "code",
   "execution_count": 24,
   "id": "6ad39dbd",
   "metadata": {},
   "outputs": [
    {
     "data": {
      "text/plain": [
       "0"
      ]
     },
     "execution_count": 24,
     "metadata": {},
     "output_type": "execute_result"
    }
   ],
   "source": [
    "b\n"
   ]
  },
  {
   "cell_type": "code",
   "execution_count": 25,
   "id": "dc1cb728",
   "metadata": {},
   "outputs": [
    {
     "data": {
      "text/plain": [
       "0"
      ]
     },
     "execution_count": 25,
     "metadata": {},
     "output_type": "execute_result"
    }
   ],
   "source": [
    "sum"
   ]
  },
  {
   "cell_type": "code",
   "execution_count": 27,
   "id": "da6f73e3",
   "metadata": {},
   "outputs": [
    {
     "name": "stdout",
     "output_type": "stream",
     "text": [
      "HELLO\n",
      "10\n"
     ]
    }
   ],
   "source": [
    "#prgram to assign and access variable\n",
    "str=\"HELLO\"\n",
    "num_=10\n",
    "print(str)\n",
    "print(num_)"
   ]
  },
  {
   "cell_type": "code",
   "execution_count": 29,
   "id": "adc620ca",
   "metadata": {},
   "outputs": [
    {
     "ename": "NameError",
     "evalue": "name 'age' is not defined",
     "output_type": "error",
     "traceback": [
      "\u001b[1;31m---------------------------------------------------------------------------\u001b[0m",
      "\u001b[1;31mNameError\u001b[0m                                 Traceback (most recent call last)",
      "Input \u001b[1;32mIn [29]\u001b[0m, in \u001b[0;36m<cell line: 1>\u001b[1;34m()\u001b[0m\n\u001b[1;32m----> 1\u001b[0m \u001b[38;5;28mprint\u001b[39m(\u001b[43mage\u001b[49m)\n",
      "\u001b[1;31mNameError\u001b[0m: name 'age' is not defined"
     ]
    }
   ],
   "source": [
    "print(age)#error___variable not decleared prior to print to its use"
   ]
  },
  {
   "cell_type": "code",
   "execution_count": 30,
   "id": "ef0f5307",
   "metadata": {},
   "outputs": [
    {
     "data": {
      "text/plain": [
       "10"
      ]
     },
     "execution_count": 30,
     "metadata": {},
     "output_type": "execute_result"
    }
   ],
   "source": [
    "num_"
   ]
  },
  {
   "cell_type": "code",
   "execution_count": 31,
   "id": "ca8bd56e",
   "metadata": {},
   "outputs": [],
   "source": [
    "del num_"
   ]
  },
  {
   "cell_type": "code",
   "execution_count": 33,
   "id": "29f4d928",
   "metadata": {},
   "outputs": [
    {
     "ename": "NameError",
     "evalue": "name 'num_' is not defined",
     "output_type": "error",
     "traceback": [
      "\u001b[1;31m---------------------------------------------------------------------------\u001b[0m",
      "\u001b[1;31mNameError\u001b[0m                                 Traceback (most recent call last)",
      "Input \u001b[1;32mIn [33]\u001b[0m, in \u001b[0;36m<cell line: 1>\u001b[1;34m()\u001b[0m\n\u001b[1;32m----> 1\u001b[0m \u001b[43mnum_\u001b[49m\n",
      "\u001b[1;31mNameError\u001b[0m: name 'num_' is not defined"
     ]
    }
   ],
   "source": [
    "num_#variable being used afterr deleting it"
   ]
  },
  {
   "cell_type": "code",
   "execution_count": 42,
   "id": "61f877a1",
   "metadata": {},
   "outputs": [
    {
     "name": "stdout",
     "output_type": "stream",
     "text": [
      "Hello\n"
     ]
    }
   ],
   "source": [
    "mesg_=\"Hello\"\n",
    "print(mesg)"
   ]
  },
  {
   "cell_type": "code",
   "execution_count": 43,
   "id": "14dec261",
   "metadata": {},
   "outputs": [
    {
     "name": "stdout",
     "output_type": "stream",
     "text": [
      "Hello\n"
     ]
    }
   ],
   "source": [
    "mesg=\"Hello\";\n",
    "print(mesg);#avoid semicolon"
   ]
  },
  {
   "cell_type": "code",
   "execution_count": 44,
   "id": "811ef104",
   "metadata": {},
   "outputs": [
    {
     "name": "stdout",
     "output_type": "stream",
     "text": [
      "Hello\n"
     ]
    }
   ],
   "source": [
    "print(mesg)"
   ]
  },
  {
   "cell_type": "code",
   "execution_count": 46,
   "id": "f3beabfc",
   "metadata": {},
   "outputs": [
    {
     "name": "stdout",
     "output_type": "stream",
     "text": [
      "True\n"
     ]
    }
   ],
   "source": [
    "# code assign and access Boolean variable\n",
    "Boolean_var=True\n",
    "print(Boolean_var)"
   ]
  },
  {
   "cell_type": "code",
   "execution_count": 47,
   "id": "b70098d0",
   "metadata": {},
   "outputs": [
    {
     "data": {
      "text/plain": [
       "False"
      ]
     },
     "execution_count": 47,
     "metadata": {},
     "output_type": "execute_result"
    }
   ],
   "source": [
    "20==30"
   ]
  },
  {
   "cell_type": "code",
   "execution_count": 50,
   "id": "689e2ed6",
   "metadata": {},
   "outputs": [
    {
     "data": {
      "text/plain": [
       "True"
      ]
     },
     "execution_count": 50,
     "metadata": {},
     "output_type": "execute_result"
    }
   ],
   "source": [
    "\"Python\"=='Python'"
   ]
  },
  {
   "cell_type": "code",
   "execution_count": 53,
   "id": "21744ebc",
   "metadata": {},
   "outputs": [
    {
     "data": {
      "text/plain": [
       "False"
      ]
     },
     "execution_count": 53,
     "metadata": {},
     "output_type": "execute_result"
    }
   ],
   "source": [
    "20!=20"
   ]
  },
  {
   "cell_type": "code",
   "execution_count": 54,
   "id": "d5268477",
   "metadata": {},
   "outputs": [
    {
     "data": {
      "text/plain": [
       "True"
      ]
     },
     "execution_count": 54,
     "metadata": {},
     "output_type": "execute_result"
    }
   ],
   "source": [
    "90<=90"
   ]
  },
  {
   "cell_type": "code",
   "execution_count": 55,
   "id": "4695c984",
   "metadata": {},
   "outputs": [
    {
     "data": {
      "text/plain": [
       "True"
      ]
     },
     "execution_count": 55,
     "metadata": {},
     "output_type": "execute_result"
    }
   ],
   "source": [
    "87==87.0"
   ]
  },
  {
   "cell_type": "code",
   "execution_count": 56,
   "id": "e8d08d3b",
   "metadata": {},
   "outputs": [
    {
     "data": {
      "text/plain": [
       "False"
      ]
     },
     "execution_count": 56,
     "metadata": {},
     "output_type": "execute_result"
    }
   ],
   "source": [
    "87>87.0"
   ]
  },
  {
   "cell_type": "code",
   "execution_count": 57,
   "id": "059968ca",
   "metadata": {},
   "outputs": [
    {
     "data": {
      "text/plain": [
       "False"
      ]
     },
     "execution_count": 57,
     "metadata": {},
     "output_type": "execute_result"
    }
   ],
   "source": [
    "87<87.0"
   ]
  },
  {
   "cell_type": "code",
   "execution_count": 58,
   "id": "e81d796b",
   "metadata": {},
   "outputs": [
    {
     "data": {
      "text/plain": [
       "True"
      ]
     },
     "execution_count": 58,
     "metadata": {},
     "output_type": "execute_result"
    }
   ],
   "source": [
    "87>=87.0"
   ]
  },
  {
   "cell_type": "code",
   "execution_count": null,
   "id": "7b7e9b9d",
   "metadata": {},
   "outputs": [],
   "source": []
  }
 ],
 "metadata": {
  "kernelspec": {
   "display_name": "Python 3 (ipykernel)",
   "language": "python",
   "name": "python3"
  },
  "language_info": {
   "codemirror_mode": {
    "name": "ipython",
    "version": 3
   },
   "file_extension": ".py",
   "mimetype": "text/x-python",
   "name": "python",
   "nbconvert_exporter": "python",
   "pygments_lexer": "ipython3",
   "version": "3.9.12"
  }
 },
 "nbformat": 4,
 "nbformat_minor": 5
}
