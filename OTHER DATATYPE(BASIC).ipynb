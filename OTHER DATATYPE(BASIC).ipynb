{
 "cells": [
  {
   "cell_type": "markdown",
   "id": "0559c538",
   "metadata": {},
   "source": [
    "## Tuple"
   ]
  },
  {
   "cell_type": "code",
   "execution_count": 4,
   "id": "0daae726",
   "metadata": {},
   "outputs": [
    {
     "name": "stdout",
     "output_type": "stream",
     "text": [
      "First element of the tuple : a\n",
      "Element starting from 2nd till 3rd : ('bc', 78)\n",
      "Element starting fromd 3rd : (78, 1.23)\n",
      "Repeat : ('a', 'bc', 78, 1.23, 'a', 'bc', 78, 1.23)\n",
      "concatenate :  ('a', 'bc', 78, 1.23, 'd', 78)\n"
     ]
    }
   ],
   "source": [
    "tup=('a','bc',78,1.23)\n",
    "tup2=('d',78)\n",
    "print('First element of the tuple :',tup[0])\n",
    "print('Element starting from 2nd till 3rd :',tup[1:3])\n",
    "print('Element starting fromd 3rd :',tup[2:])\n",
    "print('Repeat :',tup*2)\n",
    "print('concatenate : ',tup+tup2)\n"
   ]
  },
  {
   "cell_type": "markdown",
   "id": "901cb432",
   "metadata": {},
   "source": [
    "## List--( similar to array )\n"
   ]
  },
  {
   "cell_type": "code",
   "execution_count": 5,
   "id": "8ce19399",
   "metadata": {},
   "outputs": [],
   "source": [
    "#list contain items of different datatype\n",
    "#array contain items of same datatype"
   ]
  },
  {
   "cell_type": "code",
   "execution_count": 7,
   "id": "3e147e40",
   "metadata": {},
   "outputs": [
    {
     "name": "stdout",
     "output_type": "stream",
     "text": [
      "All elements in list : ['a', 'bc', 1.23]\n",
      "First element in list : a\n",
      "Element from 1st till 3rd : ['bc', 1.23]\n",
      "Element starting from 3rd [1.23]\n",
      "Reapeat : ['a', 'bc', 1.23, 'a', 'bc', 1.23]\n",
      "Concatenation : ['a', 'bc', 1.23, 'd', 78]\n"
     ]
    }
   ],
   "source": [
    "list=['a','bc',1.23]\n",
    "list2=['d',78]\n",
    "print('All elements in list :',list)\n",
    "print('First element in list :',list[0])\n",
    "print('Element from 1st till 3rd :',list[1:3])\n",
    "print('Element starting from 3rd',list[2:])\n",
    "print('Reapeat :',list*2)\n",
    "print('Concatenation :',list+list2)\n",
    "\n"
   ]
  },
  {
   "cell_type": "markdown",
   "id": "5fe8fb3e",
   "metadata": {},
   "source": [
    "### Dictionary"
   ]
  },
  {
   "cell_type": "code",
   "execution_count": 10,
   "id": "a5904779",
   "metadata": {},
   "outputs": [
    {
     "name": "stdout",
     "output_type": "stream",
     "text": [
      "Chocolate\n",
      "100\n"
     ]
    }
   ],
   "source": [
    "dic={\"ITEM\":\"Chocolate\",\"Price\":100}\n",
    "print(dic['ITEM'])\n",
    "print(dic['Price'])"
   ]
  },
  {
   "cell_type": "markdown",
   "id": "2ce5496b",
   "metadata": {},
   "source": [
    "### TYPE_CONVERSION"
   ]
  },
  {
   "cell_type": "code",
   "execution_count": 11,
   "id": "8ea26615",
   "metadata": {},
   "outputs": [
    {
     "data": {
      "text/plain": [
       "'2050 '"
      ]
     },
     "execution_count": 11,
     "metadata": {},
     "output_type": "execute_result"
    }
   ],
   "source": [
    "\"20\" + \"50 \""
   ]
  },
  {
   "cell_type": "code",
   "execution_count": 12,
   "id": "18bd49ad",
   "metadata": {},
   "outputs": [
    {
     "data": {
      "text/plain": [
       "70"
      ]
     },
     "execution_count": 12,
     "metadata": {},
     "output_type": "execute_result"
    }
   ],
   "source": [
    "int(\"20\") + int(\"50 \")"
   ]
  },
  {
   "cell_type": "code",
   "execution_count": 13,
   "id": "54ddfc1f",
   "metadata": {},
   "outputs": [
    {
     "name": "stdout",
     "output_type": "stream",
     "text": [
      "Enter the NUMBER 1 :10\n",
      "Enter the NUMBER 2 :5\n",
      "105\n"
     ]
    }
   ],
   "source": [
    "#without convertin datatype\n",
    "var_X=input(\"Enter the NUMBER 1 :\")\n",
    "var_Y=input(\"Enter the NUMBER 2 :\")\n",
    "print(var_X+var_Y)"
   ]
  },
  {
   "cell_type": "code",
   "execution_count": 15,
   "id": "4a838498",
   "metadata": {},
   "outputs": [
    {
     "name": "stdout",
     "output_type": "stream",
     "text": [
      "Enter the NUMBER 1 :10\n",
      "Enter the NUMBER 2 :5\n",
      "15\n"
     ]
    }
   ],
   "source": [
    "#Converting datatype\n",
    "var_1=int(input(\"Enter the NUMBER 1 :\"))\n",
    "var_2=int(input(\"Enter the NUMBER 2 :\"))\n",
    "print(var_1+var_2)"
   ]
  },
  {
   "cell_type": "code",
   "execution_count": null,
   "id": "d54651f1",
   "metadata": {},
   "outputs": [],
   "source": []
  }
 ],
 "metadata": {
  "kernelspec": {
   "display_name": "Python 3 (ipykernel)",
   "language": "python",
   "name": "python3"
  },
  "language_info": {
   "codemirror_mode": {
    "name": "ipython",
    "version": 3
   },
   "file_extension": ".py",
   "mimetype": "text/x-python",
   "name": "python",
   "nbconvert_exporter": "python",
   "pygments_lexer": "ipython3",
   "version": "3.9.12"
  }
 },
 "nbformat": 4,
 "nbformat_minor": 5
}
