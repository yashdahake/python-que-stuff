{
 "cells": [
  {
   "cell_type": "markdown",
   "id": "1fa70bc3",
   "metadata": {},
   "source": [
    "# OPERATIONS AND EXPRESSION\n"
   ]
  },
  {
   "cell_type": "markdown",
   "id": "f5377a2b",
   "metadata": {},
   "source": [
    "### arithematic operator\n",
    "### Comparison operator\n",
    "### assignmen operator\n",
    "### logical operator \n",
    "### unary operator\n",
    "### bitwise operator\n",
    "### membership operator\n",
    "### identity operator"
   ]
  },
  {
   "cell_type": "code",
   "execution_count": null,
   "id": "5da4e41d",
   "metadata": {},
   "outputs": [],
   "source": []
  },
  {
   "cell_type": "code",
   "execution_count": 17,
   "id": "063fcafe",
   "metadata": {},
   "outputs": [
    {
     "name": "stdout",
     "output_type": "stream",
     "text": [
      "Enter First number: 10\n",
      "Enter second number: 100\n"
     ]
    }
   ],
   "source": [
    "a=int(input(\"Enter First number: \"))\n",
    "b=int(input(\"Enter second number: \"))\n"
   ]
  },
  {
   "cell_type": "markdown",
   "id": "82502660",
   "metadata": {},
   "source": [
    "### Arithematic operator"
   ]
  },
  {
   "cell_type": "code",
   "execution_count": 19,
   "id": "00b1fc18",
   "metadata": {},
   "outputs": [
    {
     "name": "stdout",
     "output_type": "stream",
     "text": [
      "addition = 110\n",
      "subtraction = -90\n",
      "Multiple =  1000\n",
      "Division =  10.0\n",
      "FLOOR-Division =  10\n",
      "Reminder =  0\n",
      "Exponent =  10000000000000000000000000000000000000000000000000000000000000000000000000000000000000000000000000000\n"
     ]
    }
   ],
   "source": [
    "print(\"addition = \" + str(a+b))\n",
    "print(\"subtraction = \"+str(a-b))\n",
    "print(\"Multiple = \",(a*b))\n",
    "print(\"Division = \",(b/a))\n",
    "print(\"FLOOR-Division = \",(b//a))\n",
    "print(\"Reminder = \",(b%a))\n",
    "print(\"Exponent = \",(a**b))"
   ]
  },
  {
   "cell_type": "code",
   "execution_count": null,
   "id": "f61c2f88",
   "metadata": {},
   "outputs": [],
   "source": []
  },
  {
   "cell_type": "markdown",
   "id": "f703c8e7",
   "metadata": {},
   "source": [
    "### Comparison operator"
   ]
  },
  {
   "cell_type": "code",
   "execution_count": 22,
   "id": "b8f158e0",
   "metadata": {},
   "outputs": [
    {
     "name": "stdout",
     "output_type": "stream",
     "text": [
      "Compare =  False\n",
      "Not Equal to =  True\n",
      "a greater than b =  False\n",
      "a greater than equal to b =  False\n",
      "a less than b =  True\n",
      "a less than equal to b =  True\n"
     ]
    }
   ],
   "source": [
    "print(\"Compare = \",a==b)\n",
    "print(\"Not Equal to = \",a!=b)\n",
    "print(\"a greater than b = \",a>b)\n",
    "print(\"a greater than equal to b = \",a>=b)\n",
    "print(\"a less than b = \",a<b)\n",
    "print(\"a less than equal to b = \",a<=b)\n",
    "\n"
   ]
  },
  {
   "cell_type": "code",
   "execution_count": null,
   "id": "32d1a668",
   "metadata": {},
   "outputs": [],
   "source": []
  },
  {
   "cell_type": "markdown",
   "id": "6e048d66",
   "metadata": {},
   "source": [
    "### Assignment Operator"
   ]
  },
  {
   "cell_type": "code",
   "execution_count": 23,
   "id": "74b1c02c",
   "metadata": {},
   "outputs": [],
   "source": [
    "c=a# assign value a to c\n",
    "c+=b # c=c+b\n",
    "c-=b # c=c-b\n",
    "c*=b #c=c*b\n",
    "c/=b #c=c/b\n",
    "c%=b #c=c%b\n",
    "c//=b #c=c//b\n",
    "c**=b #c=c**b"
   ]
  },
  {
   "cell_type": "code",
   "execution_count": 24,
   "id": "8fae5148",
   "metadata": {},
   "outputs": [
    {
     "data": {
      "text/plain": [
       "0.0"
      ]
     },
     "execution_count": 24,
     "metadata": {},
     "output_type": "execute_result"
    }
   ],
   "source": [
    "c"
   ]
  },
  {
   "cell_type": "code",
   "execution_count": 25,
   "id": "b5243dcc",
   "metadata": {},
   "outputs": [
    {
     "name": "stdout",
     "output_type": "stream",
     "text": [
      "Good Morning \n"
     ]
    }
   ],
   "source": [
    "str1=\"Good \"\n",
    "str2=\"Morning \"\n",
    "str1+=str2\n",
    "print(str1)"
   ]
  },
  {
   "cell_type": "code",
   "execution_count": null,
   "id": "e47d124b",
   "metadata": {},
   "outputs": [],
   "source": []
  },
  {
   "cell_type": "markdown",
   "id": "96bb8292",
   "metadata": {},
   "source": [
    "## unary operator "
   ]
  },
  {
   "cell_type": "code",
   "execution_count": 26,
   "id": "633c12e4",
   "metadata": {},
   "outputs": [],
   "source": [
    "b=10\n",
    "a=-(b)"
   ]
  },
  {
   "cell_type": "code",
   "execution_count": 27,
   "id": "61275bb7",
   "metadata": {},
   "outputs": [
    {
     "data": {
      "text/plain": [
       "-10"
      ]
     },
     "execution_count": 27,
     "metadata": {},
     "output_type": "execute_result"
    }
   ],
   "source": [
    "a"
   ]
  },
  {
   "cell_type": "markdown",
   "id": "a6ce0447",
   "metadata": {},
   "source": [
    "### BITWISE OPERATOR"
   ]
  },
  {
   "cell_type": "code",
   "execution_count": 30,
   "id": "6d621029",
   "metadata": {},
   "outputs": [
    {
     "data": {
      "text/plain": [
       "881"
      ]
     },
     "execution_count": 30,
     "metadata": {},
     "output_type": "execute_result"
    }
   ],
   "source": [
    "#bitwise AND(&)\n",
    "10101 &1011"
   ]
  },
  {
   "cell_type": "code",
   "execution_count": 31,
   "id": "10c2c49d",
   "metadata": {},
   "outputs": [
    {
     "data": {
      "text/plain": [
       "10231"
      ]
     },
     "execution_count": 31,
     "metadata": {},
     "output_type": "execute_result"
    }
   ],
   "source": [
    "#bitwise OR(|)\n",
    "10101 | 1011"
   ]
  },
  {
   "cell_type": "code",
   "execution_count": 32,
   "id": "952068c7",
   "metadata": {},
   "outputs": [
    {
     "data": {
      "text/plain": [
       "111111079"
      ]
     },
     "execution_count": 32,
     "metadata": {},
     "output_type": "execute_result"
    }
   ],
   "source": [
    "#bitwise XOR(^)\n",
    "10101010^101010101"
   ]
  },
  {
   "cell_type": "code",
   "execution_count": 37,
   "id": "bc48603f",
   "metadata": {},
   "outputs": [
    {
     "data": {
      "text/plain": [
       "-102"
      ]
     },
     "execution_count": 37,
     "metadata": {},
     "output_type": "execute_result"
    }
   ],
   "source": [
    "#bitwis NOT(~)\n",
    "~101\n"
   ]
  },
  {
   "cell_type": "code",
   "execution_count": 46,
   "id": "01857aeb",
   "metadata": {},
   "outputs": [
    {
     "data": {
      "text/plain": [
       "0"
      ]
     },
     "execution_count": 46,
     "metadata": {},
     "output_type": "execute_result"
    }
   ],
   "source": [
    "#bitwise right(>>)\n",
    "1011>>110"
   ]
  },
  {
   "cell_type": "code",
   "execution_count": 45,
   "id": "473ccf41",
   "metadata": {},
   "outputs": [
    {
     "data": {
      "text/plain": [
       "216466168823769724178000828411101565769615000060751899375786453458578319348259595466075936488346877258936675822804086721624307090615561283087760436164060608189086138186999114367476549171470021808218430387855844887618322377483989902230262318798648825000167311242223524871076003459046317862885228906337533952"
      ]
     },
     "execution_count": 45,
     "metadata": {},
     "output_type": "execute_result"
    }
   ],
   "source": [
    "#bitwise left(<<)\n",
    "10101<<1001"
   ]
  },
  {
   "cell_type": "code",
   "execution_count": null,
   "id": "33302103",
   "metadata": {},
   "outputs": [],
   "source": []
  },
  {
   "cell_type": "markdown",
   "id": "868f6db0",
   "metadata": {},
   "source": [
    "### Logical operator "
   ]
  },
  {
   "cell_type": "code",
   "execution_count": 38,
   "id": "3efb126d",
   "metadata": {},
   "outputs": [],
   "source": [
    "#evaluated from left to right in arethematic operator\n",
    "#Logical AND (&&)\n",
    "#Logical OR(||)\n",
    "#Logical NOT (!)\n",
    "\n"
   ]
  },
  {
   "cell_type": "code",
   "execution_count": null,
   "id": "8d61f47e",
   "metadata": {},
   "outputs": [],
   "source": []
  },
  {
   "cell_type": "markdown",
   "id": "a94a5b20",
   "metadata": {},
   "source": [
    "### Membership operator"
   ]
  },
  {
   "cell_type": "code",
   "execution_count": 39,
   "id": "ecf5a625",
   "metadata": {},
   "outputs": [],
   "source": [
    "# in ------operator check and access sequence\n",
    "# not in--- operator check and access sequence"
   ]
  },
  {
   "cell_type": "code",
   "execution_count": null,
   "id": "5903009a",
   "metadata": {},
   "outputs": [],
   "source": []
  },
  {
   "cell_type": "markdown",
   "id": "29eeccd4",
   "metadata": {},
   "source": [
    "### identity Operator"
   ]
  },
  {
   "cell_type": "code",
   "execution_count": 40,
   "id": "ec1f38f1",
   "metadata": {},
   "outputs": [],
   "source": [
    "#is--operator\n",
    "#is not--operator"
   ]
  },
  {
   "cell_type": "markdown",
   "id": "6fbd74cd",
   "metadata": {},
   "source": [
    "### Expressions\n"
   ]
  },
  {
   "cell_type": "code",
   "execution_count": 47,
   "id": "b4d46922",
   "metadata": {},
   "outputs": [
    {
     "name": "stdout",
     "output_type": "stream",
     "text": [
      "25\n"
     ]
    }
   ],
   "source": [
    "a=10\n",
    "b=15\n",
    "c=a+b# expression(operator is placed between operands)\n",
    "print(c)"
   ]
  },
  {
   "cell_type": "code",
   "execution_count": null,
   "id": "17dadf00",
   "metadata": {},
   "outputs": [],
   "source": []
  }
 ],
 "metadata": {
  "kernelspec": {
   "display_name": "Python 3 (ipykernel)",
   "language": "python",
   "name": "python3"
  },
  "language_info": {
   "codemirror_mode": {
    "name": "ipython",
    "version": 3
   },
   "file_extension": ".py",
   "mimetype": "text/x-python",
   "name": "python",
   "nbconvert_exporter": "python",
   "pygments_lexer": "ipython3",
   "version": "3.9.12"
  }
 },
 "nbformat": 4,
 "nbformat_minor": 5
}
