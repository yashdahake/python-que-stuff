{
 "cells": [
  {
   "cell_type": "code",
   "execution_count": 3,
   "id": "a0fec0a9",
   "metadata": {},
   "outputs": [
    {
     "name": "stdout",
     "output_type": "stream",
     "text": [
      "Missile Man of indian -Sir APJ Abdul kalam\n"
     ]
    }
   ],
   "source": [
    "#concatenation\n",
    "print(\"Missile Man of indian\"+\" -Sir APJ Abdul kalam\")"
   ]
  },
  {
   "cell_type": "code",
   "execution_count": 6,
   "id": "71b6f24f",
   "metadata": {},
   "outputs": [
    {
     "name": "stdout",
     "output_type": "stream",
     "text": [
      "Technology - Boon or a Bane\n"
     ]
    }
   ],
   "source": [
    "print('Technology'+' - Boon or a Bane')"
   ]
  },
  {
   "cell_type": "code",
   "execution_count": 7,
   "id": "d9e3a1c2",
   "metadata": {},
   "outputs": [
    {
     "ename": "TypeError",
     "evalue": "can only concatenate str (not \"float\") to str",
     "output_type": "error",
     "traceback": [
      "\u001b[1;31m---------------------------------------------------------------------------\u001b[0m",
      "\u001b[1;31mTypeError\u001b[0m                                 Traceback (most recent call last)",
      "Input \u001b[1;32mIn [7]\u001b[0m, in \u001b[0;36m<cell line: 1>\u001b[1;34m()\u001b[0m\n\u001b[1;32m----> 1\u001b[0m \u001b[38;5;28mprint\u001b[39m(\u001b[38;5;124;43m'\u001b[39;49m\u001b[38;5;124;43mPYTHON\u001b[39;49m\u001b[38;5;124;43m'\u001b[39;49m\u001b[38;5;241;43m+\u001b[39;49m\u001b[38;5;241;43m3.4\u001b[39;49m)\n",
      "\u001b[1;31mTypeError\u001b[0m: can only concatenate str (not \"float\") to str"
     ]
    }
   ],
   "source": [
    "print('PYTHON'+3.4)"
   ]
  },
  {
   "cell_type": "code",
   "execution_count": 8,
   "id": "93289c11",
   "metadata": {},
   "outputs": [
    {
     "name": "stdout",
     "output_type": "stream",
     "text": [
      "PYTHON 3.4\n"
     ]
    }
   ],
   "source": [
    "print('PYTHON'+' 3.4')"
   ]
  },
  {
   "cell_type": "code",
   "execution_count": 9,
   "id": "488f1178",
   "metadata": {},
   "outputs": [
    {
     "name": "stdout",
     "output_type": "stream",
     "text": [
      "12345\n"
     ]
    }
   ],
   "source": [
    "print('123'+'45')"
   ]
  },
  {
   "cell_type": "code",
   "execution_count": 21,
   "id": "5a86cc60",
   "metadata": {},
   "outputs": [
    {
     "name": "stdout",
     "output_type": "stream",
     "text": [
      " HELLO  HELLO  HELLO  HELLO  HELLO \n"
     ]
    }
   ],
   "source": [
    "#replication(string repeatition)--multiplication\n",
    "print(' HELLO '*5)"
   ]
  },
  {
   "cell_type": "code",
   "execution_count": 22,
   "id": "82d796ff",
   "metadata": {},
   "outputs": [
    {
     "name": "stdout",
     "output_type": "stream",
     "text": [
      " HELLO  HELLO  HELLO  HELLO  HELLO \n"
     ]
    }
   ],
   "source": [
    "print(5*' HELLO ') "
   ]
  },
  {
   "cell_type": "code",
   "execution_count": 23,
   "id": "0c2acb65",
   "metadata": {},
   "outputs": [
    {
     "ename": "TypeError",
     "evalue": "can't multiply sequence by non-int of type 'str'",
     "output_type": "error",
     "traceback": [
      "\u001b[1;31m---------------------------------------------------------------------------\u001b[0m",
      "\u001b[1;31mTypeError\u001b[0m                                 Traceback (most recent call last)",
      "Input \u001b[1;32mIn [23]\u001b[0m, in \u001b[0;36m<cell line: 1>\u001b[1;34m()\u001b[0m\n\u001b[1;32m----> 1\u001b[0m \u001b[38;5;28mprint\u001b[39m(\u001b[38;5;124;43m'\u001b[39;49m\u001b[38;5;124;43m HELLO \u001b[39;49m\u001b[38;5;124;43m'\u001b[39;49m\u001b[38;5;241;43m*\u001b[39;49m\u001b[38;5;124;43m'\u001b[39;49m\u001b[38;5;124;43m5\u001b[39;49m\u001b[38;5;124;43m'\u001b[39;49m)\n",
      "\u001b[1;31mTypeError\u001b[0m: can't multiply sequence by non-int of type 'str'"
     ]
    }
   ],
   "source": [
    "print(' HELLO '*'5')#error"
   ]
  },
  {
   "cell_type": "code",
   "execution_count": 24,
   "id": "b254e198",
   "metadata": {},
   "outputs": [
    {
     "ename": "TypeError",
     "evalue": "can't multiply sequence by non-int of type 'float'",
     "output_type": "error",
     "traceback": [
      "\u001b[1;31m---------------------------------------------------------------------------\u001b[0m",
      "\u001b[1;31mTypeError\u001b[0m                                 Traceback (most recent call last)",
      "Input \u001b[1;32mIn [24]\u001b[0m, in \u001b[0;36m<cell line: 1>\u001b[1;34m()\u001b[0m\n\u001b[1;32m----> 1\u001b[0m \u001b[38;5;28mprint\u001b[39m(\u001b[38;5;124;43m'\u001b[39;49m\u001b[38;5;124;43m HELLO \u001b[39;49m\u001b[38;5;124;43m'\u001b[39;49m\u001b[38;5;241;43m*\u001b[39;49m\u001b[38;5;241;43m5.0\u001b[39;49m)\n",
      "\u001b[1;31mTypeError\u001b[0m: can't multiply sequence by non-int of type 'float'"
     ]
    }
   ],
   "source": [
    "print(' HELLO '*5.0)#error"
   ]
  },
  {
   "cell_type": "code",
   "execution_count": 26,
   "id": "02d150ca",
   "metadata": {},
   "outputs": [
    {
     "name": "stdout",
     "output_type": "stream",
     "text": [
      " hello 4\n",
      " hello  hello  hello  hello  hello \n"
     ]
    }
   ],
   "source": [
    "str=' hello '\n",
    "print(str+'4')\n",
    "print(str*5)"
   ]
  },
  {
   "cell_type": "code",
   "execution_count": 31,
   "id": "f9c10097",
   "metadata": {},
   "outputs": [
    {
     "data": {
      "text/plain": [
       "['hello']"
      ]
     },
     "execution_count": 31,
     "metadata": {},
     "output_type": "execute_result"
    }
   ],
   "source": [
    " str.split()"
   ]
  },
  {
   "cell_type": "code",
   "execution_count": 30,
   "id": "f4f136ab",
   "metadata": {},
   "outputs": [
    {
     "data": {
      "text/plain": [
       "' hello '"
      ]
     },
     "execution_count": 30,
     "metadata": {},
     "output_type": "execute_result"
    }
   ],
   "source": [
    "str"
   ]
  },
  {
   "cell_type": "code",
   "execution_count": 32,
   "id": "54a7939b",
   "metadata": {},
   "outputs": [
    {
     "name": "stdout",
     "output_type": "stream",
     "text": [
      "Python is Easy !!!\n"
     ]
    }
   ],
   "source": [
    "#slice a string\n",
    "strsen=\"Python is Easy !!!\"\n",
    "print(strsen)\n"
   ]
  },
  {
   "cell_type": "code",
   "execution_count": 33,
   "id": "fc970a8b",
   "metadata": {},
   "outputs": [
    {
     "name": "stdout",
     "output_type": "stream",
     "text": [
      "Python is Easy !!!\n"
     ]
    }
   ],
   "source": [
    "print(strsen)"
   ]
  },
  {
   "cell_type": "code",
   "execution_count": 34,
   "id": "1e6f18a1",
   "metadata": {},
   "outputs": [
    {
     "name": "stdout",
     "output_type": "stream",
     "text": [
      "P\n"
     ]
    }
   ],
   "source": [
    "print(strsen[0])"
   ]
  },
  {
   "cell_type": "code",
   "execution_count": 35,
   "id": "d0350df5",
   "metadata": {},
   "outputs": [
    {
     "name": "stdout",
     "output_type": "stream",
     "text": [
      "hon is\n"
     ]
    }
   ],
   "source": [
    "print(strsen[3:9])"
   ]
  },
  {
   "cell_type": "code",
   "execution_count": 36,
   "id": "bc9b5f5a",
   "metadata": {},
   "outputs": [
    {
     "name": "stdout",
     "output_type": "stream",
     "text": [
      "on is Easy !!!\n"
     ]
    }
   ],
   "source": [
    "print(strsen[4:])"
   ]
  },
  {
   "cell_type": "code",
   "execution_count": 37,
   "id": "9b485567",
   "metadata": {},
   "outputs": [
    {
     "name": "stdout",
     "output_type": "stream",
     "text": [
      "!\n"
     ]
    }
   ],
   "source": [
    "print(strsen[-1])"
   ]
  },
  {
   "cell_type": "code",
   "execution_count": 38,
   "id": "a9c9be4a",
   "metadata": {},
   "outputs": [
    {
     "name": "stdout",
     "output_type": "stream",
     "text": [
      "Pytho\n"
     ]
    }
   ],
   "source": [
    "print(strsen[:5])"
   ]
  },
  {
   "cell_type": "code",
   "execution_count": 40,
   "id": "322946ad",
   "metadata": {},
   "outputs": [
    {
     "name": "stdout",
     "output_type": "stream",
     "text": [
      "Python is Easy !!!Python is Easy !!!\n"
     ]
    }
   ],
   "source": [
    "print(strsen*2)"
   ]
  },
  {
   "cell_type": "code",
   "execution_count": 43,
   "id": "9918e1f9",
   "metadata": {},
   "outputs": [
    {
     "name": "stdout",
     "output_type": "stream",
     "text": [
      "Python is Easy !!! ISN'T IT ??\n"
     ]
    }
   ],
   "source": [
    "print(strsen+' ISN\\'T IT ??')"
   ]
  },
  {
   "cell_type": "code",
   "execution_count": null,
   "id": "2193e873",
   "metadata": {},
   "outputs": [],
   "source": []
  }
 ],
 "metadata": {
  "kernelspec": {
   "display_name": "Python 3 (ipykernel)",
   "language": "python",
   "name": "python3"
  },
  "language_info": {
   "codemirror_mode": {
    "name": "ipython",
    "version": 3
   },
   "file_extension": ".py",
   "mimetype": "text/x-python",
   "name": "python",
   "nbconvert_exporter": "python",
   "pygments_lexer": "ipython3",
   "version": "3.9.12"
  }
 },
 "nbformat": 4,
 "nbformat_minor": 5
}
